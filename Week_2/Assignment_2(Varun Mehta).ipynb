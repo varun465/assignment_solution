{
 "cells": [
  {
   "cell_type": "markdown",
   "id": "ec6ca8d6",
   "metadata": {},
   "source": [
    "# Assignment 2 – Object Oriented programming"
   ]
  },
  {
   "cell_type": "markdown",
   "id": "f17eecc7",
   "metadata": {},
   "source": [
    "Task1 : Complex Numbers"
   ]
  },
  {
   "cell_type": "code",
   "execution_count": 22,
   "id": "ff89cbce",
   "metadata": {},
   "outputs": [
    {
     "name": "stdout",
     "output_type": "stream",
     "text": [
      "1 2 \n",
      "2 3\n",
      "3.00+5.00i\n",
      "-1.00-1.00i\n",
      "-4.00+7.00i\n",
      "0.62+0.08i\n",
      "2.24+0.00i\n",
      "3.61+0.00i\n"
     ]
    }
   ],
   "source": [
    "import math\n",
    "\n",
    "class Calculation:\n",
    "    \n",
    "    def __init__(s, real_num, imag_num):\n",
    "        s.real = real_num\n",
    "        s.imag = imag_num\n",
    "\n",
    "    def __str__(s):\n",
    "        \n",
    "        if s.imag == 0:\n",
    "            result = \"%.2f+0.00i\" % (s.real)\n",
    "        elif s.real == 0:\n",
    "            if s.imag >= 0:\n",
    "                result = \"0.00+%.2fi\" % (s.imag)\n",
    "            else:\n",
    "                result = \"0.00-%.2fi\" % (abs(s.imag))\n",
    "        elif s.imag > 0:\n",
    "            result = \"%.2f+%.2fi\" % (s.real, s.imag)\n",
    "        else:\n",
    "            result = \"%.2f-%.2fi\" % (s.real, abs(s.imag))\n",
    "        return result\n",
    "\n",
    "    def __add__(s, o):\n",
    "        real_add = s.real + o.real\n",
    "        imag_add = s.imag + o.imag\n",
    "        return Calculation(real_add, imag_add)\n",
    "\n",
    "    def __sub__(s, o):\n",
    "        real_diff = s.real - o.real\n",
    "        imag_diff = s.imag - o.imag\n",
    "        return Calculation(real_diff, imag_diff)\n",
    "\n",
    "    def __mul__(s, o):\n",
    "        real_prod = s.real * o.real - s.imag * o.imag\n",
    "        imag_prod = s.real * o.imag + s.imag * o.real\n",
    "        return Calculation(real_prod, imag_prod)\n",
    "\n",
    "    def __truediv__(s, o):\n",
    "        denominator = o.real**2 + o.imag**2\n",
    "        real_div = ( s.real * o.real + s.imag * o.imag ) / ( o.real**2 + o.imag**2 )\n",
    "        imag_div = ( s.imag * o.real - s.real * o.imag ) / ( o.real**2 + o.imag**2 ) \n",
    "        return Calculation(real_div, imag_div)\n",
    "\n",
    "    def modulus(s):\n",
    "        return Calculation((s.real**2 + s.imag**2) ** (1/2),0)\n",
    "\n",
    "if __name__ == \"__main__\":\n",
    "    \n",
    "    \n",
    "    \n",
    "    real1, imag1 = map(float, input().split())\n",
    "    real2, imag2 = map(float, input().split())\n",
    "\n",
    "    complex_no1 = Calculation(real1, imag1)\n",
    "    complex_no2 = Calculation(real2, imag2)\n",
    "    \n",
    "    print(*map(str, [complex_no1+complex_no2, complex_no1-complex_no2, complex_no1*complex_no2, \n",
    "                     complex_no1/complex_no2, complex_no1.modulus(), complex_no2.modulus()]), sep='\\n')\n",
    "\n",
    "    \n",
    "    "
   ]
  },
  {
   "cell_type": "markdown",
   "id": "8ae52954",
   "metadata": {},
   "source": [
    "### Task2: Find MRO"
   ]
  },
  {
   "cell_type": "code",
   "execution_count": 12,
   "id": "820bba53",
   "metadata": {},
   "outputs": [
    {
     "name": "stdout",
     "output_type": "stream",
     "text": [
      " process() of class M\n"
     ]
    }
   ],
   "source": [
    "class X():\n",
    "    def process(self):\n",
    "        print(' process() of class X')\n",
    "    pass\n",
    "\n",
    "class Y():\n",
    "    def process(self):\n",
    "        print(' process() of class Y')\n",
    "    pass\n",
    "\n",
    "class Z():\n",
    "    def process(self):\n",
    "        print(' process() of class Z')\n",
    "    pass\n",
    "\n",
    "class A(X,Y):\n",
    "    def process(self):\n",
    "        print(' process() of class A')\n",
    "    pass    \n",
    "\n",
    "\n",
    "class B(Y,Z):\n",
    "    def process(self):\n",
    "        print(' process() of class B')\n",
    "    pass\n",
    "\n",
    "\n",
    "class M(B,A,Z):\n",
    "    def process(self):\n",
    "        print(' process() of class M')\n",
    "    pass\n",
    "\n",
    "\n",
    "obj = M()\n",
    "obj.process()"
   ]
  },
  {
   "cell_type": "code",
   "execution_count": 13,
   "id": "f904e996",
   "metadata": {},
   "outputs": [
    {
     "data": {
      "text/plain": [
       "[__main__.M,\n",
       " __main__.B,\n",
       " __main__.A,\n",
       " __main__.X,\n",
       " __main__.Y,\n",
       " __main__.Z,\n",
       " object]"
      ]
     },
     "execution_count": 13,
     "metadata": {},
     "output_type": "execute_result"
    }
   ],
   "source": [
    "M.mro()"
   ]
  },
  {
   "cell_type": "code",
   "execution_count": 30,
   "id": "58f764db",
   "metadata": {},
   "outputs": [
    {
     "ename": "TypeError",
     "evalue": "Cannot create a consistent method resolution\norder (MRO) for bases A, B",
     "output_type": "error",
     "traceback": [
      "\u001b[1;31m---------------------------------------------------------------------------\u001b[0m",
      "\u001b[1;31mTypeError\u001b[0m                                 Traceback (most recent call last)",
      "Cell \u001b[1;32mIn[30], line 15\u001b[0m\n\u001b[0;32m      9\u001b[0m        \u001b[38;5;28mprint\u001b[39m(\u001b[38;5;124m'\u001b[39m\u001b[38;5;124m process() of class B\u001b[39m\u001b[38;5;124m'\u001b[39m)\n\u001b[0;32m     11\u001b[0m    \u001b[38;5;28;01mpass\u001b[39;00m\n\u001b[1;32m---> 15\u001b[0m \u001b[38;5;28;01mclass\u001b[39;00m \u001b[38;5;21;01mC\u001b[39;00m(A,B):\n\u001b[0;32m     16\u001b[0m    \u001b[38;5;28;01mdef\u001b[39;00m \u001b[38;5;21mprocess\u001b[39m(\u001b[38;5;28mself\u001b[39m):\n\u001b[0;32m     17\u001b[0m        \u001b[38;5;28mprint\u001b[39m(\u001b[38;5;124m'\u001b[39m\u001b[38;5;124m process() of class c\u001b[39m\u001b[38;5;124m'\u001b[39m)\n",
      "\u001b[1;31mTypeError\u001b[0m: Cannot create a consistent method resolution\norder (MRO) for bases A, B"
     ]
    }
   ],
   "source": [
    " class A:\n",
    "    def process(self):\n",
    "        print(' process() of class A')\n",
    "    pass\n",
    "\n",
    "\n",
    "class B(A):\n",
    "    def process(self):\n",
    "        print(' process() of class B')\n",
    "\n",
    "    pass\n",
    "\n",
    "\n",
    "\n",
    "class C(A,B):\n",
    "    def process(self):\n",
    "        print(' process() of class c')\n",
    "    pass\n",
    "\n",
    "\n",
    "obj = C()\n",
    "obj.process()\n",
    "                   #  Here we cannot create MRO as both B and C are inheriting from class A so it will\n",
    "                    # create confusion in method resolution\n",
    "                  "
   ]
  },
  {
   "cell_type": "raw",
   "id": "bc9f0fa8",
   "metadata": {},
   "source": [
    "Task 3: Personal Banking system"
   ]
  },
  {
   "cell_type": "code",
   "execution_count": 51,
   "id": "d07864d3",
   "metadata": {},
   "outputs": [],
   "source": [
    "class BalanceException(Exception):\n",
    "    pass\n",
    "\n",
    "class BankAccount:\n",
    "    def __init__(self, name, amount):\n",
    "        self.name = name\n",
    "        self.amount = amount\n",
    "\n",
    "    def display_balance(self):\n",
    "        print(f\"Account Holder name is: {self.name}, having Balance: {self.amount:.2f}\")\n",
    "\n",
    "    def deposit(self, amount):\n",
    "        self.amount += amount\n",
    "        print(f\"New balance is : {self.amount:.2f}\")\n",
    "        \n",
    "    def viable_transaction(self, amount):\n",
    "        if self.amount >= amount:\n",
    "            return\n",
    "        else:\n",
    "            raise BalanceException(\n",
    "                f\"\\naccount {self.name} has a balance of {self.amount:.2f}\"\n",
    "            )\n",
    "\n",
    "    def withdraw(self, amount):\n",
    "        \n",
    "        try:\n",
    "            self.viable_transaction(amount)\n",
    "            self.amount = self.amount - amount\n",
    "            print(f\"Withdrawal successful. Account name {self.name} New balance is: {self.amount:.2f}\")\n",
    "            \n",
    "        except BalanceException as error:\n",
    "            print(f'\\nInsufficient balance for withdrawal: {error}')\n",
    "\n",
    "        \n",
    "\n",
    "    def transfer(self, receiver, amount):\n",
    "        try: \n",
    "            \n",
    "            self.viable_transaction(amount) \n",
    "            self.withdraw(amount) \n",
    "            receiver.deposit(amount) \n",
    "            print('\\nTransfer successful')\n",
    "        except BalanceException as error: \n",
    "            print(f'\\nTransfer interrupted. {error}')\n",
    "                \n",
    "\n",
    "\n",
    "class InterestRewardAcc(BankAccount):\n",
    "    def __init__(self, name, amount):\n",
    "        super().__init__(name, amount)\n",
    "\n",
    "    def deposit(self, amount):\n",
    "        self.amount += self.amount + (amount * 1.05)\n",
    "        print(f\"Deposit successful with 5% reward. Account name: {self.name} New balance: {self.amount:.2f}\")\n",
    "\n",
    "\n",
    "class SavingsAcc(InterestRewardAcc):\n",
    "    def __init__(self, name, amount):\n",
    "        super().__init__(name, amount)\n",
    "\n",
    "    def withdraw(self, amount):\n",
    "        try: \n",
    "            self.viable_transaction(amount + 5)\n",
    "            self.amount = self.amount - (amount + 5) \n",
    "            print(f\"\\nWithdrawal successful. Account name: {self.name} New balance: {self.amount:.2f}\")\n",
    "            \n",
    "        except BalanceException as error: \n",
    "            print(f'\\nWithdraw interrupted: {error}')\n",
    "        \n",
    "        "
   ]
  },
  {
   "cell_type": "code",
   "execution_count": 52,
   "id": "7586c29f",
   "metadata": {},
   "outputs": [
    {
     "name": "stdout",
     "output_type": "stream",
     "text": [
      "Account Holder name is: sachin, having Balance: 10000.00\n",
      "New balance is : 15000.00\n",
      "\n",
      "Insufficient balance for withdrawal: \n",
      "account sachin has a balance of 15000.00\n",
      "Withdrawal successful. Account name sachin New balance is: 13000.00\n",
      "New balance is : 4000.00\n",
      "\n",
      "Transfer successful\n",
      "Deposit successful with 5% reward. Account name: Kevin New balance: 2105.00\n",
      "Deposit successful with 5% reward. Account name: John New balance: 2105.00\n",
      "\n",
      "Withdrawal successful. Account name: John New balance: 1600.00\n",
      "Deposit successful with 5% reward. Account name: Kevin New balance: 4735.00\n",
      "\n",
      "Transfer successful\n"
     ]
    }
   ],
   "source": [
    "if __name__ == \"__main__\":\n",
    "    \n",
    "    sachin = BankAccount(\"sachin\", 10000)\n",
    "    vinay = BankAccount(\"vinay\", 2000)\n",
    "\n",
    "    \n",
    "    sachin.display_balance()\n",
    "    sachin.deposit(5000)\n",
    "    sachin.withdraw(30000)\n",
    "    sachin.transfer(vinay, 2000)\n",
    "\n",
    "    kevin = InterestRewardAcc(\"Kevin\", 1000)\n",
    "    john = SavingsAcc(\"John\", 1000)\n",
    "\n",
    "    kevin.deposit(100)\n",
    "    john.deposit(100)\n",
    "\n",
    "    john.transfer(kevin, 500)\n"
   ]
  },
  {
   "cell_type": "markdown",
   "id": "fc96a864",
   "metadata": {},
   "source": [
    "Task 4: Interactive calculator"
   ]
  },
  {
   "cell_type": "code",
   "execution_count": 42,
   "id": "2c639648",
   "metadata": {},
   "outputs": [
    {
     "name": "stdout",
     "output_type": "stream",
     "text": [
      "Enter a formula (e.g., 1 + 1), or type 'quit' to exit: 4 / 2\n",
      "Result: 2.0\n",
      "Enter a formula (e.g., 1 + 1), or type 'quit' to exit: 3 * 3\n",
      "Result: 9.0\n",
      "Enter a formula (e.g., 1 + 1), or type 'quit' to exit: 2 + 2\n",
      "Result: 4.0\n",
      "Enter a formula (e.g., 1 + 1), or type 'quit' to exit: 3 - 2\n",
      "Result: 1.0\n",
      "Enter a formula (e.g., 1 + 1), or type 'quit' to exit: quit\n"
     ]
    }
   ],
   "source": [
    "class FormulaError(Exception):\n",
    "    pass\n",
    "\n",
    "def parse_input(user_input):\n",
    "    elements = user_input.split()\n",
    "\n",
    "    if len(elements) != 3:\n",
    "        raise FormulaError(\"Invalid input. Please enter a1 formula in the format: number operator number\")\n",
    "\n",
    "    try:\n",
    "        n1 = float(elements[0])\n",
    "        n2 = float(elements[2])\n",
    "    except ValueError:\n",
    "        raise FormulaError(\"Invalid number. Please enter valid numeric values\")\n",
    "\n",
    "    op = elements[1]\n",
    "    if op not in ['+', '-','*','/']:\n",
    "        raise FormulaError(\"Invalid operator. Please use '+' or '-' only\")\n",
    "\n",
    "    return n1, op, n2\n",
    "\n",
    "def calculate(n1, op, n2):\n",
    "    if op == '+':\n",
    "        return n1 + n2\n",
    "    if op == '-':\n",
    "        return n1 - n2\n",
    "    if op == '*':\n",
    "        return n1 * n2\n",
    "    if op == '/':\n",
    "        return n1 / n2\n",
    "\n",
    "if __name__ == \"__main__\":\n",
    "    while True:\n",
    "        user_input = input(\"Enter a formula (e.g., 1 + 1), or type 'quit' to exit: \")\n",
    "        if user_input.lower() == 'quit':\n",
    "            break\n",
    "        try:\n",
    "            n1, op, n2 = parse_input(user_input)\n",
    "            result = calculate(n1, op, n2)\n",
    "            print(f\"Result: {result}\")\n",
    "        except FormulaError as fe:\n",
    "            print(f\"FormulaError: {fe}\")\n"
   ]
  },
  {
   "cell_type": "code",
   "execution_count": null,
   "id": "0e5da4c0",
   "metadata": {},
   "outputs": [],
   "source": []
  }
 ],
 "metadata": {
  "kernelspec": {
   "display_name": "Python 3 (ipykernel)",
   "language": "python",
   "name": "python3"
  },
  "language_info": {
   "codemirror_mode": {
    "name": "ipython",
    "version": 3
   },
   "file_extension": ".py",
   "mimetype": "text/x-python",
   "name": "python",
   "nbconvert_exporter": "python",
   "pygments_lexer": "ipython3",
   "version": "3.10.9"
  }
 },
 "nbformat": 4,
 "nbformat_minor": 5
}
