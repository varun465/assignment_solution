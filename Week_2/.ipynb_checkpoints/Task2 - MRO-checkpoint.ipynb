{
 "cells": [
  {
   "cell_type": "code",
   "execution_count": 8,
   "id": "01c0b78e",
   "metadata": {},
   "outputs": [
    {
     "name": "stdout",
     "output_type": "stream",
     "text": [
      "(<class '__main__.M'>, <class '__main__.B'>, <class '__main__.A'>, <class '__main__.X'>, <class '__main__.Y'>, <class '__main__.Z'>, <class 'object'>)\n"
     ]
    }
   ],
   "source": [
    "#Task 2 - (1)\n",
    "class X(object):pass\n",
    "class Y(object): pass\n",
    "class Z(object): pass\n",
    "class A(X,Y): pass\n",
    "class B(Y,Z):pass\n",
    "class M(B,A,Z):pass\n",
    "print(M.__mro__)"
   ]
  },
  {
   "cell_type": "code",
   "execution_count": 1,
   "id": "7a7c9abc",
   "metadata": {},
   "outputs": [
    {
     "ename": "TypeError",
     "evalue": "Cannot create a consistent method resolution\norder (MRO) for bases A, B",
     "output_type": "error",
     "traceback": [
      "\u001b[1;31m---------------------------------------------------------------------------\u001b[0m",
      "\u001b[1;31mTypeError\u001b[0m                                 Traceback (most recent call last)",
      "\u001b[1;32m<ipython-input-1-0984476a7da2>\u001b[0m in \u001b[0;36m<module>\u001b[1;34m\u001b[0m\n\u001b[0;32m     10\u001b[0m \u001b[1;33m\u001b[0m\u001b[0m\n\u001b[0;32m     11\u001b[0m \u001b[1;33m\u001b[0m\u001b[0m\n\u001b[1;32m---> 12\u001b[1;33m \u001b[1;32mclass\u001b[0m \u001b[0mC\u001b[0m\u001b[1;33m(\u001b[0m\u001b[0mA\u001b[0m\u001b[1;33m,\u001b[0m \u001b[0mB\u001b[0m\u001b[1;33m)\u001b[0m\u001b[1;33m:\u001b[0m\u001b[1;33m\u001b[0m\u001b[1;33m\u001b[0m\u001b[0m\n\u001b[0m\u001b[0;32m     13\u001b[0m     \u001b[1;32mpass\u001b[0m\u001b[1;33m\u001b[0m\u001b[1;33m\u001b[0m\u001b[0m\n\u001b[0;32m     14\u001b[0m \u001b[1;33m\u001b[0m\u001b[0m\n",
      "\u001b[1;31mTypeError\u001b[0m: Cannot create a consistent method resolution\norder (MRO) for bases A, B"
     ]
    }
   ],
   "source": [
    "#Task2 --- (2)\n",
    "class A:\n",
    "    def process(self):\n",
    "        print('A process()')\n",
    "\n",
    "\n",
    "class B(A):\n",
    "    def process(self):\n",
    "        print('B process()')       \n",
    "\n",
    "\n",
    "class C(A, B):\n",
    "    pass\n",
    "\n",
    "\n",
    "obj = C()\n",
    "obj.process()"
   ]
  },
  {
   "cell_type": "markdown",
   "id": "36a87670",
   "metadata": {},
   "source": [
    "Explanation:\n",
    "\n",
    "The problem comes from the fact that class A is a super class for both C and B. If you construct MRO then it should be like this:\n",
    "C -> A -> B -> A\n",
    "\n",
    "Then according to the rule (good head) A should NOT be ahead of B as A is super class of B. So new MRO must be like this:\n",
    "C -> B -> A \n",
    "\n",
    "But A is also direct super class of C. So, if a method is in both A and B classes then which version should class C call? \n",
    "\n",
    "According to new MRO, the version in B is called first ahead of A and that is not according to inheritance rules (specific to generic) resulting in Python to throw error.\n"
   ]
  },
  {
   "cell_type": "code",
   "execution_count": null,
   "id": "30afbdca",
   "metadata": {},
   "outputs": [],
   "source": []
  }
 ],
 "metadata": {
  "kernelspec": {
   "display_name": "Python 3 (ipykernel)",
   "language": "python",
   "name": "python3"
  },
  "language_info": {
   "codemirror_mode": {
    "name": "ipython",
    "version": 3
   },
   "file_extension": ".py",
   "mimetype": "text/x-python",
   "name": "python",
   "nbconvert_exporter": "python",
   "pygments_lexer": "ipython3",
   "version": "3.10.9"
  }
 },
 "nbformat": 4,
 "nbformat_minor": 5
}
