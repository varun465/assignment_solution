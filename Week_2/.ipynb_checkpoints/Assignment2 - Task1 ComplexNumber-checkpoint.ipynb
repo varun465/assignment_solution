{
 "cells": [
  {
   "cell_type": "code",
   "execution_count": 6,
   "id": "4bcd43aa",
   "metadata": {},
   "outputs": [],
   "source": [
    "#import math\n",
    "\n",
    "class Complex(object):\n",
    "    def __init__(self, real, imaginary):\n",
    "        self.real = real\n",
    "        self.imaginary = imaginary\n",
    "        \n",
    "    def __add__(self, no):\n",
    "        real_num = self.real + no.real\n",
    "        imag_num = self.imaginary + no.imaginary\n",
    "        return Complex(real_num,imag_num)\n",
    "    \n",
    "    def __sub__(self, no):\n",
    "        real_num = self.real - no.real\n",
    "        imag_num = self.imaginary - no.imaginary\n",
    "        return Complex(real_num,imag_num)\n",
    "    \n",
    "    def __mul__(self, no):\n",
    "        real_num = self.real*no.real - self.imaginary*no.imaginary # - => i*i = i**2 = -1\n",
    "        imag_num = self.real*no.imaginary + self.imaginary*no.real\n",
    "        return Complex(real_num,imag_num)\n",
    "     \n",
    "    def __truediv__(self, no):\n",
    "        conjugate = Complex(no.real, -no.imaginary)\n",
    "        denominator = float(no.real**2 + no.imaginary**2) # result by product of denominator and conjugate\n",
    "        numerator = self * conjugate\n",
    "        \n",
    "        real_num = numerator.real / denominator\n",
    "        imag_num = numerator.imaginary / denominator\n",
    "        return Complex(real_num,imag_num)\n",
    "\n",
    "    def mod(self): # imaginary number = 0\n",
    "        real_num = (self.real**2 + self.imaginary**2)**0.5\n",
    "        return Complex(real_num,0)\n",
    "    \n",
    "    def __str__(self):\n",
    "        if self.imaginary == 0:\n",
    "            result = \"%.2f+0.00i\" % (self.real)\n",
    "        elif self.real == 0:\n",
    "            if self.imaginary >= 0:\n",
    "                result = \"0.00+%.2fi\" % (self.imaginary)\n",
    "            else:\n",
    "                result = \"0.00-%.2fi\" % (abs(self.imaginary))\n",
    "        elif self.imaginary > 0:\n",
    "            result = \"%.2f+%.2fi\" % (self.real, self.imaginary)\n",
    "        else:\n",
    "            result = \"%.2f-%.2fi\" % (self.real, abs(self.imaginary))\n",
    "        return result"
   ]
  },
  {
   "cell_type": "code",
   "execution_count": 7,
   "id": "37b9b6f7",
   "metadata": {},
   "outputs": [
    {
     "name": "stdout",
     "output_type": "stream",
     "text": [
      "2 1\n"
     ]
    }
   ],
   "source": [
    "c = map(float, input().split())"
   ]
  },
  {
   "cell_type": "code",
   "execution_count": 8,
   "id": "b1ec8e9e",
   "metadata": {},
   "outputs": [
    {
     "name": "stdout",
     "output_type": "stream",
     "text": [
      "5 6\n"
     ]
    }
   ],
   "source": [
    "d = map(float, input().split())"
   ]
  },
  {
   "cell_type": "code",
   "execution_count": 9,
   "id": "e536573e",
   "metadata": {},
   "outputs": [],
   "source": [
    "x = Complex(*c)\n",
    "y = Complex(*d)"
   ]
  },
  {
   "cell_type": "code",
   "execution_count": 10,
   "id": "ff1b122b",
   "metadata": {},
   "outputs": [
    {
     "name": "stdout",
     "output_type": "stream",
     "text": [
      "7.00+7.00i\n",
      "-3.00-5.00i\n",
      "4.00+17.00i\n",
      "0.26-0.11i\n",
      "2.24+0.00i\n",
      "7.81+0.00i\n"
     ]
    }
   ],
   "source": [
    "print(*map(str, [x+y, x-y, x*y, x/y, x.mod(), y.mod()]), sep='\\n')"
   ]
  },
  {
   "cell_type": "code",
   "execution_count": null,
   "id": "f53cebf3",
   "metadata": {},
   "outputs": [],
   "source": []
  }
 ],
 "metadata": {
  "kernelspec": {
   "display_name": "Python 3 (ipykernel)",
   "language": "python",
   "name": "python3"
  },
  "language_info": {
   "codemirror_mode": {
    "name": "ipython",
    "version": 3
   },
   "file_extension": ".py",
   "mimetype": "text/x-python",
   "name": "python",
   "nbconvert_exporter": "python",
   "pygments_lexer": "ipython3",
   "version": "3.10.9"
  }
 },
 "nbformat": 4,
 "nbformat_minor": 5
}
