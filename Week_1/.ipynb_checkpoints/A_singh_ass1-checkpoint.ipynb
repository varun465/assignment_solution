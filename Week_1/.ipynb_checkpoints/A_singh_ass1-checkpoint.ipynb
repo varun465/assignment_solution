{
 "cells": [
  {
   "cell_type": "code",
   "execution_count": 1,
   "id": "de4e1c56",
   "metadata": {},
   "outputs": [],
   "source": [
    "##Stock Portfolio mgmt\n",
    "portfolio={}\n",
    "import random"
   ]
  },
  {
   "cell_type": "code",
   "execution_count": 2,
   "id": "b8edeb95",
   "metadata": {},
   "outputs": [
    {
     "name": "stdout",
     "output_type": "stream",
     "text": [
      "{'A': {'num_shares': 2, 'price': 30}, 'B': {'num_shares': 2, 'price': 30}}\n"
     ]
    }
   ],
   "source": [
    "def buy_stock(symbol,num_shares,price):\n",
    "    if symbol not in portfolio:\n",
    "        info={}\n",
    "        info['num_shares']=num_shares\n",
    "        info['price']=price\n",
    "        portfolio[symbol]=info\n",
    "    else:\n",
    "        portfolio[symbol][\"price\"]=(portfolio[symbol][\"num_shares\"]*portfolio[symbol][\"price\"]+num_shares*price)/(portfolio[symbol][\"num_shares\"]+num_shares)\n",
    "        portfolio[symbol][\"num_shares\"]+=num_shares\n",
    "buy_stock(\"A\",2,30)\n",
    "buy_stock(\"B\",2,30)\n",
    "\n",
    "print(portfolio)"
   ]
  },
  {
   "cell_type": "code",
   "execution_count": 6,
   "id": "86b4d23c",
   "metadata": {},
   "outputs": [
    {
     "data": {
      "text/plain": [
       "True"
      ]
     },
     "execution_count": 6,
     "metadata": {},
     "output_type": "execute_result"
    }
   ],
   "source": [
    "'A' in portfolio.keys()"
   ]
  },
  {
   "cell_type": "code",
   "execution_count": 389,
   "id": "0930bab0",
   "metadata": {},
   "outputs": [],
   "source": [
    "def sell_stock(symbol,num_shares):\n",
    "    if symbol not in portfolio:\n",
    "        print(\"Error\")\n",
    "    else:\n",
    "        portfolio[symbol][\"num_shares\"]-=num_shares\n",
    "    if portfolio[symbol][\"num_shares\"]<=0:\n",
    "        del portfolio[symbol]\n",
    "#sell_stock(\"A\",1,10)\n",
    "#print(portfolio)"
   ]
  },
  {
   "cell_type": "code",
   "execution_count": 390,
   "id": "5e1179ae",
   "metadata": {},
   "outputs": [
    {
     "name": "stdout",
     "output_type": "stream",
     "text": [
      "Current Portfolio Value: 2053.105389108843\n",
      "Portfolio Performance: -81.64858835726811\n"
     ]
    }
   ],
   "source": [
    "def calculate_portfolio_value():\n",
    "    total_value = 0\n",
    "    for symbol,info in portfolio.items():\n",
    "        price=info['price']\n",
    "        random_percent=random.uniform(-20,20)/100\n",
    "        current_price=price+(price*random_percent)\n",
    "        total_value+=current_price*info['num_shares']\n",
    "    return total_value\n",
    "\n",
    "# Task 5: Implement the function to calculate the portfolio performance\n",
    "def portfolio_performance(initial_investment):\n",
    "    current_value=calculate_portfolio_value()\n",
    "    percentage_change=((current_value-initial_investment)/initial_investment)*100\n",
    "    return percentage_change\n",
    "if __name__==\"__main__\":\n",
    "    # Buying stocks\n",
    "    buy_stock('AAPL',10,100.0)\n",
    "    buy_stock('GOOG',5,200.0)\n",
    "    buy_stock('AMZN',3,300.0)\n",
    "\n",
    "    # Selling stocks\n",
    "    sell_stock('AAPL',5)\n",
    "    sell_stock('GOOG',2)\n",
    "    \n",
    "    # Calculate portfolio value and performance\n",
    "    initial_investment=10000.0\n",
    "    print(\"Current Portfolio Value:\",calculate_portfolio_value())\n",
    "    print(\"Portfolio Performance:\",portfolio_performance(initial_investment))"
   ]
  },
  {
   "cell_type": "code",
   "execution_count": 85,
   "id": "2fc71dd6",
   "metadata": {},
   "outputs": [
    {
     "name": "stdout",
     "output_type": "stream",
     "text": [
      "Congratulations! The function is correct.\n"
     ]
    }
   ],
   "source": [
    "def is_prime(number):\n",
    "    if number == 1:\n",
    "        return False\n",
    "    for i in range(2, number):#range starts from 2 not 1\n",
    "        if number % i == 0:#% to /\n",
    "            return False\n",
    "    return True\n",
    "\n",
    "def find_prime_numbers(start, end):\n",
    "    prime_numbers = []\n",
    "    for num in range(start, end + 1):\n",
    "        if is_prime(num):\n",
    "            prime_numbers.append(num)\n",
    "    return prime_numbers\n",
    "\n",
    "# Test the function\n",
    "start_range = 1\n",
    "end_range = 50\n",
    "expected_primes = [2, 3, 5, 7, 11, 13, 17, 19, 23, 29, 31, 37, 41, 43, 47]\n",
    "result = find_prime_numbers(start_range, end_range)\n",
    "\n",
    "if result == expected_primes:\n",
    "    print(\"Congratulations! The function is correct.\")\n",
    "else:\n",
    "    print(\"Too bad! There's a bug in the function.\")\n"
   ]
  },
  {
   "cell_type": "code",
   "execution_count": 5,
   "id": "cfeec40f",
   "metadata": {},
   "outputs": [
    {
     "name": "stdout",
     "output_type": "stream",
     "text": [
      "[2.1821778622227987, -2.014210832422029, -0.8415262610495302, 5.3848146223542495, -0.09625826115819772, -0.07741301074456211, 3.9660473563442546, -0.9600016675591994, 2.4359216890508626, -2.5041778104213783, -5.251011068141397, 0.2769415845304324, 0.5131060055858392, 0.09590584723649556, 0.930992732959443, 4.977177025702881, -0.08090170828118645, -0.06484126794226364, 1.103571214915511, -0.6212700684943627, -0.4666136879087381, 0.21223330975616625, 1.1487540239907545, 0.01935599513965384, 0.4836077648701852, -0.9149139461025992, -0.6632732290269554, -0.6454925261721999, 0.15552257288842788, 0.03702645248415406, -2.907869719881997, -2.9508090429328417, -0.4630022142779335, -3.029382661956499, -0.38628964506727653, -0.8279638527938894, -0.8912035017132212, 3.2270070916610365, 2.357348429925064, -0.31841817905764447, 0.3014277588556174, 1.8122887409399984, -1.374121367541063, 1.5083883216893816, -0.045844309880678426, 0.5766751783818176, -0.3646863498252307, 2.367131071745632, 0.46016928939795754, 0.804427552170012, -2.372169818806592, -0.5263629739852008, -0.025025178461402026, 0.06500810677549314, 0.849192670755142, -0.3840753729743249, 2.831076889650958, 0.044689552317151895, -0.7731673541155017, -0.8248097608046041, 0.1100944008120179, -0.8868819103496715, 0.7940980399195001, 0.2597766555691747, -0.30983324649506705, -5.521884057907832, 1.0816473945265985, 1.1147488894910784, 1.2849960177209137, -0.44521188182030985, -0.05863393995323319, -0.5176748216602303, -0.3788783798811715, -0.15522953147950344, 6.2223897748254915, -0.524421295299048, -3.3275870097899083, -1.5423514126186086, -0.7795152156715075, -1.470514308102679, -0.5886292942314447, -0.6288780611361005, 2.5331638576675557, 0.6445984196024593, 1.5625677737110892, -1.3028763301459803, 1.5194072037400377, -0.5605011479880406, -1.9879050036545998, 0.6689020653034552, -1.085933503541094, -0.2818535714994383, 0.8517277865016877, 0.5517821433336793, -2.742043269388544, 0.37653802447158774, 1.2494199108586117, -1.8524758147192784, -3.0852057875951284, -4.538933849344869, 0.8076498980432846, -0.7766066219080294, 2.8043058399933685, 0.9478800206214226, 1.0725256319649143, -0.04897736513882326, 4.112617224005974, 4.07908107924286, -0.23466272626095125, 2.2695203787338976, 0.32315734448851696, -0.3433639601895074, -0.394164569977752, -0.16751087931391603, 1.1066562633054442, -0.59580229078594, 1.065318740099307, -0.9173767212463722, -0.7509108408881133, 1.5894835307321362, -0.22516211496076138, -0.13188676005561092, 0.8462657847268623, -0.30984326753815694, -1.403320592338274, -0.427646299966093, -0.4927800685640379, 0.028163812609527147, -0.46188873406593794, -1.054028536504505, 1.9562864101369462, 1.2337335607464934, -1.0452900542425538, 0.45489614982690535, 2.5351887132995894, 0.9122035173393545, -2.0592717769367446, -0.2525365268990921, -2.4753309762836717, 0.2203799748359718, 1.8899719534382935, -0.8381549113950947, -0.40147726308378673, -0.13526526810849798, 1.7154272748917505, -0.20345829015873818, 2.166279648294141, -0.5818975544557999, -0.3432724915827626, -0.9446230541595152, 0.23937165130663665, -0.204042161484716, -0.17433573979080108, 1.3285167408976106, 0.5132345251666325, -2.1093996404269473, -3.5704592152075056, 0.6746371564834392, 0.4396497031743502, -0.31225859575481396, -1.13656916724666, -1.5361517871124502, 0.6722955924202447, 3.7058334259542667, -1.8871404737590027, 2.4130474581446846, 0.3063856917961552, -0.7257649203248693, 0.3679458397667056, 0.810699633667616, -0.0756993957153847, 1.5125216843302491, -1.033797411437958, -1.6532159549480983, 0.16538265915294376, 1.2833636287378443, -2.6927250479096245, 0.2745385873888658, 0.004193293297879855, -0.03090003323271166, -0.8876785626086221, 0.14504983166210367, -0.915869790768088, 1.2883381939292295, -0.3846532975439453, -0.4668043195675871, 0.3368808354152802, 0.24743533650578753, 1.3768467229539514, -1.7587760488207484, 0.4668956461005241, -0.17822401820272105, 0.06257969166448589, 2.684140724102318, 0.27469624284904753, -0.8382152042498066, -0.7935666300822634, 1.635463112900844, 0.21519758798345498, 2.3971414002555367, -0.0319962860303745]\n"
     ]
    }
   ],
   "source": [
    "import pandas as pd\n",
    "import numpy as np\n",
    "import random\n",
    "random.seed(12)\n",
    "np.random.seed(12)\n",
    "def generate_random_timeseries_data(proportion_to_delete=0.2):\n",
    "    date_range=pd.date_range(start='2020-01-01',end='2021-01-20',freq='B')\n",
    "    random_data=np.random.rand(len(date_range))\n",
    "    timeseries_data=pd.DataFrame({'Date':date_range,'Value':random_data})\n",
    "    timeseries_data['DayOfWeek'] = timeseries_data['Date'].dt.dayofweek\n",
    "\n",
    "    num_obs_to_delete=int(proportion_to_delete*len(timeseries_data))\n",
    "    indices_to_delete=np.random.choice(timeseries_data.index,num_obs_to_delete,replace=False)\n",
    "    timeseries_data.drop(indices_to_delete,inplace=True)\n",
    "    timeseries_data['idx']=timeseries_data.reset_index(drop=False).index\n",
    "    return timeseries_data\n",
    "\n",
    "def nearest_ten_business_days(data):\n",
    "    #print((data))\n",
    "    tnn={}\n",
    "    for i in range(len(data)-20):\n",
    "        diff=[]\n",
    "        Dt=data.Date.iloc[i]\n",
    "        for j in range(i+1,len(data)):\n",
    "            Dt_dash=data.Date.iloc[j]\n",
    "            diff.append(np.busday_count(Dt.date(),Dt_dash.date())) \n",
    "        minimise=abs((10/np.array(diff))-1)\n",
    "        tnn[i]=i+np.argmin(minimise)\n",
    "    return(tnn)\n",
    "\n",
    "if __name__==\"__main__\":\n",
    "    data=generate_random_timeseries_data()\n",
    "    dates=nearest_ten_business_days(data)\n",
    "    #print(len(data))\n",
    "    #print(dates)\n",
    "    ret=[]\n",
    "    for dt,dtdash in dates.items():\n",
    "        #print(data.Date.iloc[dt],data.Date.iloc[dtdash])\n",
    "        ret.append(np.log(data.Value.iloc[dtdash]/data.Value.iloc[dt])*((10/(dtdash-dt))**0.5))\n",
    "    \n",
    "    print(ret)"
   ]
  },
  {
   "cell_type": "code",
   "execution_count": null,
   "id": "1a755f70",
   "metadata": {},
   "outputs": [],
   "source": []
  },
  {
   "cell_type": "code",
   "execution_count": null,
   "id": "1d346c4b",
   "metadata": {},
   "outputs": [],
   "source": []
  }
 ],
 "metadata": {
  "kernelspec": {
   "display_name": "Python 3 (ipykernel)",
   "language": "python",
   "name": "python3"
  },
  "language_info": {
   "codemirror_mode": {
    "name": "ipython",
    "version": 3
   },
   "file_extension": ".py",
   "mimetype": "text/x-python",
   "name": "python",
   "nbconvert_exporter": "python",
   "pygments_lexer": "ipython3",
   "version": "3.10.9"
  }
 },
 "nbformat": 4,
 "nbformat_minor": 5
}
