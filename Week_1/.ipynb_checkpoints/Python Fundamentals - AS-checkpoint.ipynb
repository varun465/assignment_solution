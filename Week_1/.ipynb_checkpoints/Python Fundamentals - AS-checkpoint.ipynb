{
 "cells": [
  {
   "cell_type": "markdown",
   "id": "3e00b5e2",
   "metadata": {},
   "source": [
    "# Heading\n",
    "## Sub Heading\n",
    "### Sub Sub Heading\n",
    "\n",
    "*This code is in Italics*\n",
    "\n",
    "**BOLD**\n",
    "\n",
    "#latex\n",
    "\n",
    "$\\alpha$            \n",
    "$\\theta$\n",
    "\n",
    "#ctrl + / ( commenting/uncommenting )\n"
   ]
  },
  {
   "cell_type": "markdown",
   "id": "d5b24957",
   "metadata": {},
   "source": [
    "# Data Types and Structures:\n",
    "\n",
    "Starting with widely used data types, you should be familiar with integers (int), floats (float), strings (str), and booleans (bool). \n",
    "\n",
    "## Data types:"
   ]
  },
  {
   "cell_type": "code",
   "execution_count": 1,
   "id": "0cc77c42",
   "metadata": {},
   "outputs": [
    {
     "data": {
      "text/plain": [
       "int"
      ]
     },
     "execution_count": 1,
     "metadata": {},
     "output_type": "execute_result"
    }
   ],
   "source": [
    "a= 1\n",
    "type(a)"
   ]
  },
  {
   "cell_type": "code",
   "execution_count": 2,
   "id": "d6b991b5",
   "metadata": {},
   "outputs": [
    {
     "data": {
      "text/plain": [
       "float"
      ]
     },
     "execution_count": 2,
     "metadata": {},
     "output_type": "execute_result"
    }
   ],
   "source": [
    "b= 2.3456\n",
    "type(b)"
   ]
  },
  {
   "cell_type": "code",
   "execution_count": 3,
   "id": "9923fb11",
   "metadata": {},
   "outputs": [
    {
     "data": {
      "text/plain": [
       "str"
      ]
     },
     "execution_count": 3,
     "metadata": {},
     "output_type": "execute_result"
    }
   ],
   "source": [
    "c = 'Hi \"there'\n",
    "type(c)"
   ]
  },
  {
   "cell_type": "code",
   "execution_count": 4,
   "id": "f206a7f1",
   "metadata": {},
   "outputs": [
    {
     "data": {
      "text/plain": [
       "bool"
      ]
     },
     "execution_count": 4,
     "metadata": {},
     "output_type": "execute_result"
    }
   ],
   "source": [
    "d = True \n",
    "type(d)"
   ]
  },
  {
   "cell_type": "code",
   "execution_count": 5,
   "id": "bf659564",
   "metadata": {},
   "outputs": [
    {
     "name": "stdout",
     "output_type": "stream",
     "text": [
      "<class 'bool'> <class 'bool'>\n"
     ]
    }
   ],
   "source": [
    "e, f = True, False\n",
    "print(type(e), type(f)) "
   ]
  },
  {
   "cell_type": "code",
   "execution_count": 2,
   "id": "812c5f23",
   "metadata": {},
   "outputs": [
    {
     "data": {
      "text/plain": [
       "True"
      ]
     },
     "execution_count": 2,
     "metadata": {},
     "output_type": "execute_result"
    }
   ],
   "source": [
    "myText = 'finance'\n",
    "'i' in myText"
   ]
  },
  {
   "cell_type": "code",
   "execution_count": 5,
   "id": "76dfcc33",
   "metadata": {},
   "outputs": [
    {
     "data": {
      "text/plain": [
       "False"
      ]
     },
     "execution_count": 5,
     "metadata": {},
     "output_type": "execute_result"
    }
   ],
   "source": [
    "myText.capitalize()\n",
    "myText.isdecimal()"
   ]
  },
  {
   "cell_type": "code",
   "execution_count": 6,
   "id": "d3a62ecb",
   "metadata": {},
   "outputs": [
    {
     "name": "stdout",
     "output_type": "stream",
     "text": [
      "f\n",
      "i\n",
      "a\n",
      "n\n",
      "c\n",
      "e\n"
     ]
    }
   ],
   "source": [
    "for i in myText:\n",
    "    print(i)"
   ]
  },
  {
   "cell_type": "code",
   "execution_count": 47,
   "id": "ba43c64b",
   "metadata": {},
   "outputs": [],
   "source": [
    "del myText"
   ]
  },
  {
   "cell_type": "code",
   "execution_count": 9,
   "id": "b52b65fc",
   "metadata": {},
   "outputs": [
    {
     "data": {
      "text/plain": [
       "['H', 'e', 'l', 'l', 'o']"
      ]
     },
     "execution_count": 9,
     "metadata": {},
     "output_type": "execute_result"
    }
   ],
   "source": [
    "myString = 'Hello'\n",
    "list(myString)"
   ]
  },
  {
   "cell_type": "code",
   "execution_count": 11,
   "id": "8fb9c021",
   "metadata": {},
   "outputs": [
    {
     "name": "stdout",
     "output_type": "stream",
     "text": [
      "65\n",
      "66\n",
      "67\n",
      "68\n",
      "69\n",
      "70\n",
      "71\n",
      "72\n",
      "73\n",
      "74\n",
      "75\n",
      "76\n",
      "77\n",
      "78\n",
      "79\n",
      "80\n",
      "81\n",
      "82\n",
      "83\n",
      "84\n",
      "85\n",
      "86\n",
      "87\n",
      "88\n",
      "89\n",
      "90\n",
      "97\n",
      "98\n",
      "99\n",
      "100\n",
      "101\n",
      "102\n",
      "103\n",
      "104\n",
      "105\n",
      "106\n",
      "107\n",
      "108\n",
      "109\n",
      "110\n",
      "111\n",
      "112\n",
      "113\n",
      "114\n",
      "115\n",
      "116\n",
      "117\n",
      "118\n",
      "119\n",
      "120\n",
      "121\n",
      "122\n"
     ]
    }
   ],
   "source": [
    "#ASCII\n",
    "for i in 'ABCDEFGHIJKLMNOPQRSTUVWXYZabcdefghijklmnopqrstuvwxyz':\n",
    "    print(ord(i))"
   ]
  },
  {
   "cell_type": "markdown",
   "id": "7b218b16",
   "metadata": {},
   "source": [
    "## Typecasting"
   ]
  },
  {
   "cell_type": "code",
   "execution_count": 6,
   "id": "fd383b9a",
   "metadata": {},
   "outputs": [
    {
     "name": "stdout",
     "output_type": "stream",
     "text": [
      "<class 'str'>\n"
     ]
    }
   ],
   "source": [
    "astring = \"5500\"\n",
    "print(type(astring))"
   ]
  },
  {
   "cell_type": "code",
   "execution_count": 7,
   "id": "138c2dc3",
   "metadata": {},
   "outputs": [
    {
     "name": "stdout",
     "output_type": "stream",
     "text": [
      "<class 'int'>\n"
     ]
    }
   ],
   "source": [
    "#Convert integer string into integer. \n",
    "astring = int(astring)\n",
    "print(type(astring))"
   ]
  },
  {
   "cell_type": "code",
   "execution_count": null,
   "id": "38f3ff82",
   "metadata": {},
   "outputs": [],
   "source": [
    "#You can only convert integer type string. \n",
    "astring = \"5500b\"\n",
    "astring = int(astring)"
   ]
  },
  {
   "cell_type": "code",
   "execution_count": null,
   "id": "31b68109",
   "metadata": {},
   "outputs": [],
   "source": [
    "#similarly convert interger or bool into string. \n",
    "a = 123\n",
    "print(str(a))"
   ]
  },
  {
   "cell_type": "code",
   "execution_count": null,
   "id": "77e04574",
   "metadata": {},
   "outputs": [],
   "source": [
    "print(bool(a))"
   ]
  },
  {
   "cell_type": "code",
   "execution_count": null,
   "id": "14adac15",
   "metadata": {},
   "outputs": [],
   "source": [
    "print(bool(\"anubhav\"))"
   ]
  },
  {
   "cell_type": "code",
   "execution_count": null,
   "id": "8c244f1c",
   "metadata": {},
   "outputs": [],
   "source": [
    "bool(\"\")"
   ]
  },
  {
   "cell_type": "markdown",
   "id": "96a16c5d",
   "metadata": {},
   "source": [
    "## Arithmetic operators"
   ]
  },
  {
   "cell_type": "code",
   "execution_count": null,
   "id": "62173823",
   "metadata": {},
   "outputs": [],
   "source": [
    "a= 1\n",
    "b= 2\n",
    "\n",
    "c = (a**2 + b**2 + 2*a*b)**0.5\n",
    "print(c)"
   ]
  },
  {
   "cell_type": "code",
   "execution_count": null,
   "id": "9a9a802c",
   "metadata": {},
   "outputs": [],
   "source": [
    "9**(1/2)"
   ]
  },
  {
   "cell_type": "code",
   "execution_count": null,
   "id": "9b0b84c1",
   "metadata": {},
   "outputs": [],
   "source": [
    "from math import *\n",
    "print(sqrt(9))"
   ]
  },
  {
   "cell_type": "code",
   "execution_count": null,
   "id": "c362c22c",
   "metadata": {},
   "outputs": [],
   "source": [
    "answer = 43.2 + 56.0 / 14 - 9 * 2\n",
    "print(answer)"
   ]
  },
  {
   "cell_type": "markdown",
   "id": "578ba007",
   "metadata": {},
   "source": [
    "## Data structures (lists, tuples, and dictionaries)"
   ]
  },
  {
   "cell_type": "markdown",
   "id": "5bc51f4a",
   "metadata": {},
   "source": [
    "**List and Tuple**\n",
    "\n",
    "List and Tuple in Python are the classes of Python Data Structures. The list is dynamic, whereas the tuple has static characteristics. This means that lists can be modified whereas tuples cannot be modified, the tuple is faster than the list because of static in nature. Lists are denoted by the square brackets but tuples are denoted as parenthesis.\n",
    "\n",
    "List:\n",
    "1. Lists are mutable\t                                                     \n",
    "2. The implication of iterations is Time-consuming\t\n",
    "3. The list is better for performing operations, such as insertion and deletion.\n",
    "4. Lists consume more memory.\n",
    "5. Lists have several built-in methods.\n",
    "6. Unexpected changes and errors are more likely to occur.\n",
    "\n",
    "Tuple:\n",
    "1. Tuples are immutable\n",
    "2. The implication of iterations is comparatively Faster\n",
    "3. A Tuple data type is appropriate for accessing the elements\n",
    "4. Tuple consumes less memory as compared to the list\n",
    "5. Tuple does not have many built-in methods.\n",
    "6. Unexpected changes and errors are more unlikely. "
   ]
  },
  {
   "cell_type": "code",
   "execution_count": 8,
   "id": "4610066c",
   "metadata": {},
   "outputs": [
    {
     "name": "stdout",
     "output_type": "stream",
     "text": [
      "[1, True, 'Earth', 4.0] (1, True, 'Earth', 4.0)\n",
      "Earth\n",
      "True\n"
     ]
    }
   ],
   "source": [
    "# multiple data types can be stored in a Python list and tuple.\n",
    "l1 = [1, True, \"Earth\", 4.0]\n",
    "t1 = (1, True, \"Earth\", 4.0)\n",
    "print(l1, t1)\n",
    "\n",
    "print(l1[2])\n",
    "print(t1[1])"
   ]
  },
  {
   "cell_type": "code",
   "execution_count": null,
   "id": "0d837a07",
   "metadata": {},
   "outputs": [],
   "source": [
    "jidsjgdwui = ()"
   ]
  },
  {
   "cell_type": "code",
   "execution_count": 6,
   "id": "7aacc74c",
   "metadata": {},
   "outputs": [
    {
     "name": "stdout",
     "output_type": "stream",
     "text": [
      "[1, True, 'Earth', [1, 2, [100]]]\n",
      "(1, True, 'Earth', (1, 2, 100))\n"
     ]
    }
   ],
   "source": [
    "#Nested Lists and tuples\n",
    "l1 = [1, True, \"Earth\", [1,2,[100]]]\n",
    "t1 = (1, True, \"Earth\", (1,2,100))\n",
    "print(l1)\n",
    "print(t1)"
   ]
  },
  {
   "cell_type": "code",
   "execution_count": 14,
   "id": "47f33bdd",
   "metadata": {},
   "outputs": [
    {
     "data": {
      "text/plain": [
       "3"
      ]
     },
     "execution_count": 14,
     "metadata": {},
     "output_type": "execute_result"
    }
   ],
   "source": [
    "myTup = (1,2,3,4,4,3,6,2,2)\n",
    "myTup[-1]\n",
    "myTup.count(2)"
   ]
  },
  {
   "cell_type": "code",
   "execution_count": 13,
   "id": "7e38a225",
   "metadata": {},
   "outputs": [
    {
     "data": {
      "text/plain": [
       "100"
      ]
     },
     "execution_count": 13,
     "metadata": {},
     "output_type": "execute_result"
    }
   ],
   "source": [
    "l1[3][2][0]"
   ]
  },
  {
   "cell_type": "code",
   "execution_count": 48,
   "id": "159835c6",
   "metadata": {},
   "outputs": [
    {
     "name": "stdout",
     "output_type": "stream",
     "text": [
      "[5, 6, 3, 3, 3, 4, 4, 2, 1]\n"
     ]
    }
   ],
   "source": [
    "#Slicing\n",
    "lt = [1, 2, 4, 4, 3, 3, 3, 6, 5]\n",
    "tp = (1, 2, 4, 4, 3, 3, 3, 6, 5)\n",
    "\n",
    "print(lt[::-1])"
   ]
  },
  {
   "cell_type": "code",
   "execution_count": 49,
   "id": "140ba40c",
   "metadata": {},
   "outputs": [
    {
     "data": {
      "text/plain": [
       "True"
      ]
     },
     "execution_count": 49,
     "metadata": {},
     "output_type": "execute_result"
    }
   ],
   "source": [
    "2 in lt"
   ]
  },
  {
   "cell_type": "code",
   "execution_count": 15,
   "id": "81bf94b2",
   "metadata": {},
   "outputs": [
    {
     "data": {
      "text/plain": [
       "list[slice(1, 2.3456, -1)]"
      ]
     },
     "execution_count": 15,
     "metadata": {},
     "output_type": "execute_result"
    }
   ],
   "source": [
    "list[a:b:-1]"
   ]
  },
  {
   "cell_type": "code",
   "execution_count": 16,
   "id": "50efa5d3",
   "metadata": {},
   "outputs": [
    {
     "name": "stdout",
     "output_type": "stream",
     "text": [
      "[1, 2, 3, 4, 4, 5, 6]\n",
      "[1, 2, 3, 4, 1, 2, 3, 4, 1, 2, 3, 4]\n",
      "(1, 2, 3, 4, 4, 5, 6)\n",
      "(1, 2, 3, 4, 1, 2, 3, 4)\n"
     ]
    }
   ],
   "source": [
    "#addition and multiplication\n",
    "l =[1, 2, 3, 4]\n",
    "print(l + [4, 5, 6])\n",
    "print(l*3)\n",
    "\n",
    "t =(1, 2, 3, 4)\n",
    "print(t + (4, 5, 6))\n",
    "print(t*2)"
   ]
  },
  {
   "cell_type": "code",
   "execution_count": 1,
   "id": "9fa7cc65",
   "metadata": {},
   "outputs": [
    {
     "name": "stdout",
     "output_type": "stream",
     "text": [
      "[1, 2, 5, 4, 3]\n"
     ]
    }
   ],
   "source": [
    "#Test mutability \n",
    "lt = [1, 2, 4, 4, 3]\n",
    "tp = (1, 2, 4, 4, 3)\n",
    "\n",
    "lt[2] = 5\n",
    "#tp[2] = 5\n",
    "\n",
    "print(lt)"
   ]
  },
  {
   "cell_type": "code",
   "execution_count": 2,
   "id": "91d4ce8e",
   "metadata": {},
   "outputs": [
    {
     "data": {
      "text/plain": [
       "[1, 0, 2, 5, 4, 3]"
      ]
     },
     "execution_count": 2,
     "metadata": {},
     "output_type": "execute_result"
    }
   ],
   "source": [
    "#insert\n",
    "lt.insert(1,0)\n",
    "lt"
   ]
  },
  {
   "cell_type": "code",
   "execution_count": 20,
   "id": "e1b1e0fe",
   "metadata": {},
   "outputs": [
    {
     "data": {
      "text/plain": [
       "[1, 0, 2, 5, 4, 3]"
      ]
     },
     "execution_count": 20,
     "metadata": {},
     "output_type": "execute_result"
    }
   ],
   "source": [
    "#remove\n",
    "lt.remove(0)\n",
    "lt"
   ]
  },
  {
   "cell_type": "code",
   "execution_count": null,
   "id": "72366940",
   "metadata": {},
   "outputs": [],
   "source": [
    "#Append\n",
    "lt.append(5)\n",
    "print(lt)"
   ]
  },
  {
   "cell_type": "code",
   "execution_count": null,
   "id": "13c360db",
   "metadata": {},
   "outputs": [],
   "source": [
    "#extend\n",
    "lt.extend([1,2,3])\n",
    "print(lt)"
   ]
  },
  {
   "cell_type": "markdown",
   "id": "d20e5e8b",
   "metadata": {},
   "source": [
    "**When to Use Tuples Over Lists?**\n",
    "\n",
    "In Python, tuples and lists are both used to store collections of data, but they have some important differences. Here are some situations where you might want to use tuples instead of lists – \n",
    "\n",
    "Immutable Data – Tuples are immutable, thus once they are generated, their contents cannot be changed. This makes tuples a suitable option for storing information that shouldn’t change, such as setup settings, constant values, or other information that should stay the same while your programme is running.\n",
    "\n",
    "Performance – Tuples are more lightweight than lists and might be quicker to generate, access, and iterate through since they are immutable. Using a tuple can be more effective than using a list if you have a huge collection of data that you need to store, retrieve, and use regularly and that data does not need to be altered.\n",
    "\n",
    "Data integrity – By ensuring that the data’s structure and contents stay consistent, tuples can be utilised to ensure data integrity. To make sure the caller is aware of how much data to expect, for instance, if a function returns a set amount of values, you might want to return them as a tuple rather than a list."
   ]
  },
  {
   "cell_type": "markdown",
   "id": "0c8f7c17",
   "metadata": {},
   "source": [
    "****************************************************************************************************************************\n",
    "\n",
    "**Dictionaries**\n",
    "These are another type of collection in Python. While lists are integer indexed, dictionaries are more like addresses. Dictionaries have key-value pairs, and keys are analogous to indexes in lists.\n",
    "\n",
    "Concepts to focus on:\n",
    "\n",
    "1. Iterating through a dictionary (also covered in loops).\n",
    "2. Using helper methods like get(), pop(), items(), keys(), update(), and so on."
   ]
  },
  {
   "cell_type": "markdown",
   "id": "91d3bf18",
   "metadata": {},
   "source": [
    "**In dictionaries value can be anything , keys can be only immutable objects**"
   ]
  },
  {
   "cell_type": "code",
   "execution_count": 50,
   "id": "f34f5bcc",
   "metadata": {},
   "outputs": [
    {
     "name": "stdout",
     "output_type": "stream",
     "text": [
      "{True: 'Venus', 'Life': 'Earth', 3: ['Mars', 'Jupyter', 3]}\n"
     ]
    }
   ],
   "source": [
    "Dict = {True: 'Venus', 'Life': 'Earth', 3: ['Mars','Jupyter',3]}\n",
    "print(Dict)"
   ]
  },
  {
   "cell_type": "code",
   "execution_count": 55,
   "id": "da0ad18b",
   "metadata": {},
   "outputs": [
    {
     "data": {
      "text/plain": [
       "('Life', 'Earth')"
      ]
     },
     "execution_count": 55,
     "metadata": {},
     "output_type": "execute_result"
    }
   ],
   "source": [
    "list(Dict.items())[1]"
   ]
  },
  {
   "cell_type": "code",
   "execution_count": 23,
   "id": "1d3ad25d",
   "metadata": {},
   "outputs": [
    {
     "name": "stdout",
     "output_type": "stream",
     "text": [
      "{1: 'Venus', 2: 'Earth', 3: {'A': 'Welcome', 'B': 'To', 'C': 'Mars'}}\n"
     ]
    }
   ],
   "source": [
    "# Creating a Nested Dictionary\n",
    "Dict = {1: 'Venus', 2: 'Earth',\n",
    "        3: {'A': 'Welcome', 'B': 'To', 'C': 'Mars'}}\n",
    "  \n",
    "print(Dict)"
   ]
  },
  {
   "cell_type": "code",
   "execution_count": 28,
   "id": "c41050e8",
   "metadata": {},
   "outputs": [
    {
     "data": {
      "text/plain": [
       "'Welcome'"
      ]
     },
     "execution_count": 28,
     "metadata": {},
     "output_type": "execute_result"
    }
   ],
   "source": [
    "Dict[3]['A']"
   ]
  },
  {
   "cell_type": "code",
   "execution_count": 29,
   "id": "21685084",
   "metadata": {},
   "outputs": [
    {
     "name": "stdout",
     "output_type": "stream",
     "text": [
      "{1: 'Venus', 2: 'For', 3: {'A': 'Welcome', 'B': 'To', 'C': 'Mars'}, 0: 'Mercury', 4: 1}\n"
     ]
    }
   ],
   "source": [
    "#While adding a value, if the key-value already exists,\n",
    "# the value gets updated otherwise a new Key with the value is added to the Dictionary.\n",
    "Dict[0] = 'Mercury'\n",
    "Dict[2] = 'For'\n",
    "Dict[4] = 1\n",
    "print(Dict)"
   ]
  },
  {
   "cell_type": "code",
   "execution_count": null,
   "id": "db2fe1e3",
   "metadata": {},
   "outputs": [],
   "source": [
    "Dict[2]= \"hxfuoedfu\"\n",
    "print(Dict)"
   ]
  },
  {
   "cell_type": "code",
   "execution_count": null,
   "id": "be8d3509",
   "metadata": {},
   "outputs": [],
   "source": [
    "# Adding Nested Key value to Dictionary\n",
    "Dict[5] = {'Nested': {'1': 'Life', '2': 'Geeks'}}"
   ]
  },
  {
   "cell_type": "code",
   "execution_count": null,
   "id": "2e3df351",
   "metadata": {},
   "outputs": [],
   "source": [
    "#accessing a element using key\n",
    "print(\"Accessing %sth a element using key:\" %0, Dict[0])\n",
    "print(\"Accessing %sth a element using key:\" %1, Dict.get(1))\n"
   ]
  },
  {
   "cell_type": "code",
   "execution_count": null,
   "id": "ed4da411",
   "metadata": {},
   "outputs": [],
   "source": [
    "Dict"
   ]
  },
  {
   "cell_type": "code",
   "execution_count": null,
   "id": "781db97c",
   "metadata": {},
   "outputs": [],
   "source": [
    "print(Dict[5]['Nested']['2'])"
   ]
  },
  {
   "cell_type": "code",
   "execution_count": null,
   "id": "6aced30e",
   "metadata": {},
   "outputs": [],
   "source": [
    "del(Dict[5])"
   ]
  },
  {
   "cell_type": "code",
   "execution_count": null,
   "id": "07686a35",
   "metadata": {},
   "outputs": [],
   "source": [
    "print(Dict)"
   ]
  },
  {
   "cell_type": "code",
   "execution_count": 8,
   "id": "59123f02",
   "metadata": {},
   "outputs": [
    {
     "name": "stdout",
     "output_type": "stream",
     "text": [
      "{1: 'Python', 2: 'Java', 3: 'Ruby', 4: 'Scala'}\n",
      "{}\n",
      "Python\n",
      "dict_items([(1, 'Python'), (2, 'Java'), (3, 'Ruby'), (4, 'Scala')])\n",
      "dict_keys([1, 2, 3, 4])\n",
      "dict_values(['Python', 'Java', 'Ruby', 'Scala'])\n",
      "{1: 'Python', 2: 'Java', 3: 'Ruby'}\n",
      "{1: 'Python', 2: 'Java'}\n",
      "{1: 'Python', 2: 'Java', 3: 'Scala'}\n"
     ]
    }
   ],
   "source": [
    "# demo for all dictionary methods\n",
    "dict1 = {1: \"Python\", 2: \"Java\", 3: \"Ruby\", 4: \"Scala\"}\n",
    "  \n",
    "# copy() method\n",
    "dict2 = dict1.copy()\n",
    "print(dict2)\n",
    "  \n",
    "# clear() method\n",
    "dict1.clear()\n",
    "print(dict1)\n",
    "  \n",
    "# get() method\n",
    "print(dict2.get(1))\n",
    "  \n",
    "# items() method\n",
    "print(dict2.items())\n",
    "  \n",
    "# keys() method\n",
    "print(dict2.keys())\n",
    "\n",
    "# values() method\n",
    "print(dict2.values())\n",
    "  \n",
    "# pop() method\n",
    "dict2.pop(4)\n",
    "print(dict2)\n",
    "  \n",
    "# popitem() method\n",
    "dict2.popitem()\n",
    "print(dict2)\n",
    "  \n",
    "# update() method\n",
    "dict2.update({3: \"Scala\"})\n",
    "print(dict2)"
   ]
  },
  {
   "cell_type": "code",
   "execution_count": 15,
   "id": "83d2534e",
   "metadata": {},
   "outputs": [
    {
     "name": "stdout",
     "output_type": "stream",
     "text": [
      "{'A': 1, 'B': 2, 'C': 3, 'E': 4}\n"
     ]
    }
   ],
   "source": [
    "#make dictionary from two list\n",
    "l = ['A','B','C','E','D']\n",
    "m = [1, 2, 3, 4]\n",
    "print(dict(zip(l,m)))"
   ]
  },
  {
   "cell_type": "code",
   "execution_count": 20,
   "id": "12803c3d",
   "metadata": {},
   "outputs": [
    {
     "data": {
      "text/plain": [
       "[5, 5, 4, 3, 3, 3, 2, 2, 2, 1, 1, 1, 1, 1, 1, 1, 1, 0]"
      ]
     },
     "execution_count": 20,
     "metadata": {},
     "output_type": "execute_result"
    }
   ],
   "source": [
    "l = [1, 2, 5, 4, 3, 1, 1, 0, 1, 1, 1, 5, 1, 2, 3, 1, 2, 3]\n",
    "l.sort(reverse = True)\n",
    "l\n",
    "#print(sorted(l, reverse = True))"
   ]
  },
  {
   "cell_type": "code",
   "execution_count": 49,
   "id": "d5cdb18e",
   "metadata": {},
   "outputs": [
    {
     "name": "stdout",
     "output_type": "stream",
     "text": [
      "[2, 3, 5, 5, 7, 9]\n"
     ]
    }
   ],
   "source": [
    "m = [3,5,2,7,9,5]\n",
    "m.sort()\n",
    "print(m)"
   ]
  },
  {
   "cell_type": "code",
   "execution_count": 24,
   "id": "ed828b29",
   "metadata": {},
   "outputs": [
    {
     "data": {
      "text/plain": [
       "{1: 'Venus', 2: 'Earth', 3: {'A': 'Welcome', 'B': 'To', 'C': 'Mars'}}"
      ]
     },
     "execution_count": 24,
     "metadata": {},
     "output_type": "execute_result"
    }
   ],
   "source": [
    "Dict"
   ]
  },
  {
   "cell_type": "code",
   "execution_count": 29,
   "id": "27d9e1ee",
   "metadata": {},
   "outputs": [
    {
     "name": "stdout",
     "output_type": "stream",
     "text": [
      "[(3, {'A': 'Welcome', 'B': 'To', 'C': 'Mars'}), (2, 'Earth'), (1, 'Venus')]\n"
     ]
    }
   ],
   "source": [
    "print(sorted(Dict.items(), reverse = True))"
   ]
  },
  {
   "cell_type": "code",
   "execution_count": null,
   "id": "42c0e3e6",
   "metadata": {},
   "outputs": [],
   "source": [
    "l = (1, 2, 5, 4, 3, 1, 1, 0, 1, 1, 1, 5, 1, 2, 3, 1, 2, 3)\n",
    "print(type(sorted(l)))"
   ]
  },
  {
   "cell_type": "markdown",
   "id": "017fa8b8",
   "metadata": {},
   "source": [
    "## Set in Python\n",
    "\n",
    "A Set in Python programming is an unordered collection data type that is iterable, mutable and has no duplicate elements. \n",
    "\n",
    "Set are represented by { } (values enclosed in curly braces)\n",
    "\n",
    "The major advantage of using a set, as opposed to a list, is that it has a highly optimized method for checking whether a specific element is contained in the set. This is based on a data structure known as a hash table. Since sets are unordered, we cannot access items using indexes as we do in lists."
   ]
  },
  {
   "cell_type": "code",
   "execution_count": null,
   "id": "4c97c8e4",
   "metadata": {},
   "outputs": [],
   "source": [
    "myset = {\"Python\", \"for\", 10, 52.7, True}\n",
    "print(type(myset))"
   ]
  },
  {
   "cell_type": "code",
   "execution_count": null,
   "id": "a06e654d",
   "metadata": {},
   "outputs": [],
   "source": [
    "myset.add(\"for\")\n",
    "print(myset)"
   ]
  },
  {
   "cell_type": "code",
   "execution_count": 30,
   "id": "383c4da9",
   "metadata": {},
   "outputs": [
    {
     "name": "stdout",
     "output_type": "stream",
     "text": [
      "{0, 1, 2, 3, 4, 5}\n"
     ]
    }
   ],
   "source": [
    "l = [0, 1, 1, 1, 1, 1, 1, 1, 1, 2, 2, 2, 3, 3, 3, 4, 5, 5]\n",
    "print(set(l))"
   ]
  },
  {
   "cell_type": "code",
   "execution_count": 31,
   "id": "c6ae5373",
   "metadata": {},
   "outputs": [
    {
     "data": {
      "text/plain": [
       "{0: 1, 1: 8, 2: 3, 3: 3, 4: 1, 5: 2}"
      ]
     },
     "execution_count": 31,
     "metadata": {},
     "output_type": "execute_result"
    }
   ],
   "source": [
    "l = [0, 1, 1, 1, 1, 1, 1, 1, 1, 2, 2, 2, 3, 3, 3, 4, 5, 5]\n",
    "dict(((x, l.count(x)) for x in set(l)))"
   ]
  },
  {
   "cell_type": "markdown",
   "id": "1d69caa3",
   "metadata": {},
   "source": [
    "## String Operation:"
   ]
  },
  {
   "cell_type": "code",
   "execution_count": null,
   "id": "999d212e",
   "metadata": {},
   "outputs": [],
   "source": [
    "#Concatenating strings using +\n",
    "print(\"Anubhav\" + \" Singh\")"
   ]
  },
  {
   "cell_type": "code",
   "execution_count": null,
   "id": "aa8066a0",
   "metadata": {},
   "outputs": [],
   "source": [
    "print(\"   Xyz\")"
   ]
  },
  {
   "cell_type": "code",
   "execution_count": null,
   "id": "21d2d948",
   "metadata": {},
   "outputs": [],
   "source": [
    "print(\"   Xyz\".strip())"
   ]
  },
  {
   "cell_type": "code",
   "execution_count": null,
   "id": "59494534",
   "metadata": {},
   "outputs": [],
   "source": [
    "#substring\n",
    "s = \"cbsjigbfjhedkfjedhfugejfhejf\"\n",
    "print(s[3::-1])"
   ]
  },
  {
   "cell_type": "code",
   "execution_count": 53,
   "id": "8fe9602a",
   "metadata": {},
   "outputs": [
    {
     "name": "stdout",
     "output_type": "stream",
     "text": [
      "['Knowing how to deal with text data and ', ' their operators comes in handy and']\n"
     ]
    }
   ],
   "source": [
    "#Splitting the string using the split() method\n",
    "print(\"Knowing how to deal with text data and / their operators comes in handy and\".split(\"/\"))"
   ]
  },
  {
   "cell_type": "code",
   "execution_count": 30,
   "id": "11bf8021",
   "metadata": {},
   "outputs": [
    {
     "name": "stdout",
     "output_type": "stream",
     "text": [
      "sausdg<->dhwd<->dheugf\n"
     ]
    }
   ],
   "source": [
    "l = ['sausdg','dhwd','dheugf']\n",
    "print(\"<->\".join(l))"
   ]
  },
  {
   "cell_type": "code",
   "execution_count": 31,
   "id": "8bd557bd",
   "metadata": {},
   "outputs": [
    {
     "data": {
      "text/plain": [
       "'sausdg?dhwd?dheugf'"
      ]
     },
     "execution_count": 31,
     "metadata": {},
     "output_type": "execute_result"
    }
   ],
   "source": [
    "\"?\".join(l)"
   ]
  },
  {
   "cell_type": "code",
   "execution_count": 32,
   "id": "82df735e",
   "metadata": {},
   "outputs": [
    {
     "name": "stdout",
     "output_type": "stream",
     "text": [
      "John->Norway\n"
     ]
    }
   ],
   "source": [
    "#Joining the string using join() method\n",
    "\n",
    "myDict = {\"name\": \"John\", \"country\": \"Norway\"}\n",
    "mySeparator = \"->\"\n",
    "\n",
    "print(mySeparator.join(myDict.values()))"
   ]
  },
  {
   "cell_type": "code",
   "execution_count": null,
   "id": "8813ad2a",
   "metadata": {},
   "outputs": [],
   "source": [
    "print(\"AbhdhaDjasdcbBH ABC\".lower(), \"AbhdhaDjasdcbBH ABC\".upper())"
   ]
  },
  {
   "cell_type": "code",
   "execution_count": null,
   "id": "7862c31e",
   "metadata": {},
   "outputs": [],
   "source": [
    "#sorted(\"bwshgdwhdklwjfdhijgdjhdqgcuiqsgc\")"
   ]
  },
  {
   "cell_type": "markdown",
   "id": "cd002dd3",
   "metadata": {},
   "source": [
    "# Conditionals, Loops and Functions "
   ]
  },
  {
   "cell_type": "markdown",
   "id": "5066c76a",
   "metadata": {},
   "source": [
    "## Conditional statement\n",
    "Python uses these boolean variables to assess conditions. Whenever there is a comparison or evaluation, boolean values are the resulting solution.\n",
    "1. Assignment operator (=) , comparison operator (==), Greater (>), less (<), similarly (>=) and (<=)\n",
    "\n",
    "\n",
    "2. Boolean operators (or, and, not)\n",
    "\n",
    "    These are used to evaluate complex assertions together.\n",
    "    1. or - One of the many comparisons should be true for the entire condition to be true.\n",
    "    2. and — All of the comparisons should be true for the entire condition to be true.\n",
    "    3. not — Checks for the opposite of the comparison specified.\n",
    "    \n",
    "\n",
    "3. Concepts to learn:\n",
    "\n",
    "    1. if, else, and elif statements to construct your condition.\n",
    "    2. Making complex comparisons in one condition.\n",
    "    3. Keeping indentation in mind while writing nested if / else statements.\n",
    "    4. Using boolean, in, is, and not operators."
   ]
  },
  {
   "cell_type": "code",
   "execution_count": null,
   "id": "042d40b7",
   "metadata": {},
   "outputs": [],
   "source": [
    "i = 60\n",
    "if (i == 10):\n",
    "    print(\"i is 10\")\n",
    "elif (i >= 15 and i %10 != 0):\n",
    "    print(\"i is 15\")\n",
    "elif (i <= 20):\n",
    "    print(\"i is 20\")\n",
    "else:\n",
    "    if i not in [30, 40, 50]:\n",
    "        print('Its divisible by 10 and more than 20')\n",
    "    else:\n",
    "        print(\"idk about i\")"
   ]
  },
  {
   "cell_type": "code",
   "execution_count": null,
   "id": "28f114fb",
   "metadata": {},
   "outputs": [],
   "source": [
    "l1 = [1, 2, 3]\n",
    "l2 = [1, 2, 3]\n",
    "l3 = l1"
   ]
  },
  {
   "cell_type": "code",
   "execution_count": null,
   "id": "9c22aae2",
   "metadata": {},
   "outputs": [],
   "source": [
    "l1 is l3\n"
   ]
  },
  {
   "cell_type": "markdown",
   "id": "4e0fdfc0",
   "metadata": {},
   "source": [
    "## Loops\n",
    "\n",
    "Often you'll need to do a repetitive task, and loops will be your best friend to eliminate the overhead of code redundancy. You’ll often need to iterate through each element of a list or dictionary, and loops come in handy for that. while and for are two types of loops.\n",
    "\n",
    "Focus on:\n",
    "\n",
    "1. The range() function and iterating through a sequence using for loops.\n",
    "2. while loops"
   ]
  },
  {
   "cell_type": "code",
   "execution_count": null,
   "id": "50c8f569",
   "metadata": {},
   "outputs": [],
   "source": [
    "years = [2000, 2020, 2021, 2100, 2400]\n",
    "\n",
    "for year in years:\n",
    "    \n",
    "    if (year % 4 == 0 and year % 100 != 0) or (year % 400 == 0):\n",
    "        print(f\"{year} is a leap year.\")\n",
    "    else:\n",
    "        print(f\"{year} is not a leap year.\")\n"
   ]
  },
  {
   "cell_type": "code",
   "execution_count": null,
   "id": "cfaf9e2d",
   "metadata": {},
   "outputs": [],
   "source": [
    "years = [2000, 2020, 2021, 2100, 2400]\n",
    "\n",
    "for year in years:\n",
    "    \n",
    "    if (year % 4 == 0 and year % 100 != 0) or (year % 400 == 0):\n",
    "        print(\" is a leap year.\",year)\n",
    "    else:\n",
    "        print(\" is not a leap year.\",year)\n"
   ]
  },
  {
   "cell_type": "code",
   "execution_count": 36,
   "id": "b59d917b",
   "metadata": {},
   "outputs": [
    {
     "name": "stdout",
     "output_type": "stream",
     "text": [
      "(1, 2)\n",
      "(3, 4)\n",
      "(5, 6)\n"
     ]
    }
   ],
   "source": [
    "d = {1 : 2, 3:4, 5:6}\n",
    "for i in d.items():\n",
    "    print(i)"
   ]
  },
  {
   "cell_type": "code",
   "execution_count": 37,
   "id": "47bebde5",
   "metadata": {},
   "outputs": [
    {
     "name": "stdout",
     "output_type": "stream",
     "text": [
      "1 2\n",
      "3 4\n",
      "5 6\n"
     ]
    }
   ],
   "source": [
    "d = {1 : 2, 3:4, 5:6}\n",
    "for i,j in d.items():\n",
    "    print(i,j)"
   ]
  },
  {
   "cell_type": "code",
   "execution_count": null,
   "id": "27361c12",
   "metadata": {},
   "outputs": [],
   "source": [
    "sum_ = 0\n",
    "for i in range(2, 101):\n",
    "    sum_ += i\n",
    "print(sum_)"
   ]
  },
  {
   "cell_type": "code",
   "execution_count": 3,
   "id": "35f3bd0e",
   "metadata": {},
   "outputs": [
    {
     "name": "stdout",
     "output_type": "stream",
     "text": [
      "1\n",
      "2\n"
     ]
    }
   ],
   "source": [
    "for i in range(1, 6):\n",
    "    if i == 3:\n",
    "        break\n",
    "    print(i)"
   ]
  },
  {
   "cell_type": "markdown",
   "id": "6c5fd893",
   "metadata": {},
   "source": [
    "##### "
   ]
  },
  {
   "cell_type": "code",
   "execution_count": 38,
   "id": "a1c6b6e6",
   "metadata": {},
   "outputs": [
    {
     "name": "stdout",
     "output_type": "stream",
     "text": [
      "Juvenile\n",
      "Adult\n",
      "Adult\n",
      "Juvenile\n"
     ]
    }
   ],
   "source": [
    "age = [12,43,45,10]\n",
    "i = 0\n",
    "while i < len(age):\n",
    "    if age[i] >= 18:\n",
    "        print(\"Adult\")\n",
    "    else:\n",
    "        print(\"Juvenile\")\n",
    "    i += 1"
   ]
  },
  {
   "cell_type": "code",
   "execution_count": 41,
   "id": "c40995d2",
   "metadata": {},
   "outputs": [
    {
     "name": "stdout",
     "output_type": "stream",
     "text": [
      "juvenile\n",
      "Adult\n",
      "Adult\n",
      "juvenile\n"
     ]
    }
   ],
   "source": [
    "age = [12,43,45,10]\n",
    "for i in age:\n",
    "    if i >= 18:\n",
    "        print('Adult')\n",
    "    else:\n",
    "        print('juvenile')"
   ]
  },
  {
   "cell_type": "markdown",
   "id": "e138f6e6",
   "metadata": {},
   "source": [
    "## List Comprehension\n",
    "A sophisticated and short way of creating a list using and iterable followed by a for clause.\n"
   ]
  },
  {
   "cell_type": "code",
   "execution_count": 33,
   "id": "32d98ec9",
   "metadata": {},
   "outputs": [
    {
     "name": "stdout",
     "output_type": "stream",
     "text": [
      "[0, 1, 8, 27, 64]\n"
     ]
    }
   ],
   "source": [
    "cube = [i**3 for i in range(5)]\n",
    "print(cube)"
   ]
  },
  {
   "cell_type": "code",
   "execution_count": null,
   "id": "8d84d807",
   "metadata": {},
   "outputs": [],
   "source": [
    "[ True if i%2==0 else False for i in range(1,11)]"
   ]
  },
  {
   "cell_type": "code",
   "execution_count": 34,
   "id": "11c97a67",
   "metadata": {},
   "outputs": [
    {
     "name": "stdout",
     "output_type": "stream",
     "text": [
      "['apple', 'grape', 'kiwi', 'peach']\n"
     ]
    }
   ],
   "source": [
    "words = [\"apple\", \"banana\", \"orange\", \"grape\", \"watermelon\", \"kiwi\", \"peach\"]\n",
    "\n",
    "# Filter out strings with length greater than 5 using list comprehension\n",
    "filtered_words = [word for word in words if len(word) <= 5]\n",
    "print(filtered_words)"
   ]
  },
  {
   "cell_type": "code",
   "execution_count": null,
   "id": "d5156120",
   "metadata": {},
   "outputs": [],
   "source": [
    "words = [\"apple\", \"banana\", \"orange\", \"grape\", \"watermelon\", \"kiwi\", \"peach\"]\n",
    "\n",
    "# Filter out strings with length greater than 5 using list comprehension\n",
    "filtered_words = [True if word == 'apple' else False for word in words if len(word) <= 5] # condition ,iteration, filter\n",
    "print(filtered_words)                                  "
   ]
  },
  {
   "cell_type": "markdown",
   "id": "51c5c07c",
   "metadata": {},
   "source": [
    "## Functions\n",
    "While working on a big project, maintaining code becomes a real chore. If your code performs similar tasks many times, a convenient way to manage your code is by using functions.\n",
    "\n",
    "A function is a block of code that performs some operations on input data and gives you the desired output.\n",
    "\n",
    "Using functions makes the code more readable, reduces redundancy, makes the code reusable, and saves time."
   ]
  },
  {
   "cell_type": "code",
   "execution_count": 54,
   "id": "fe4b27e7",
   "metadata": {},
   "outputs": [
    {
     "data": {
      "text/plain": [
       "4"
      ]
     },
     "execution_count": 54,
     "metadata": {},
     "output_type": "execute_result"
    }
   ],
   "source": [
    "def subtract(x, y):\n",
    "    \"\"\"Function to perform subtraction.\"\"\"\n",
    "    return x - y\n",
    "\n",
    "subtract(5,1)"
   ]
  },
  {
   "cell_type": "code",
   "execution_count": 61,
   "id": "1833964f",
   "metadata": {},
   "outputs": [
    {
     "data": {
      "text/plain": [
       "4"
      ]
     },
     "execution_count": 61,
     "metadata": {},
     "output_type": "execute_result"
    }
   ],
   "source": [
    "def subtract(x, y):\n",
    "    \"\"\"Function to perform subtraction.\"\"\"\n",
    "    return x - y\n",
    "\n",
    "x = subtract(5,1)\n",
    "x"
   ]
  },
  {
   "cell_type": "markdown",
   "id": "86b72531",
   "metadata": {},
   "source": [
    "**Default Arguments**\n",
    "\n",
    "A default argument is a parameter that assumes a default value if a value is not provided in the function call for that argument. The following example illustrates Default arguments. \n"
   ]
  },
  {
   "cell_type": "code",
   "execution_count": 62,
   "id": "108167c5",
   "metadata": {},
   "outputs": [
    {
     "name": "stdout",
     "output_type": "stream",
     "text": [
      "5\n",
      "30\n"
     ]
    }
   ],
   "source": [
    "def multiply (x, y = 1):\n",
    "    return x*y\n",
    "\n",
    "print(multiply(5))\n",
    "print(multiply(5,6))"
   ]
  },
  {
   "cell_type": "markdown",
   "id": "83c93976",
   "metadata": {},
   "source": [
    "**Keyword Arguments**\n",
    "\n",
    "The idea is to allow the caller to specify the argument name with values so that the caller does not need to remember the order of parameters."
   ]
  },
  {
   "cell_type": "code",
   "execution_count": null,
   "id": "ab385cc6",
   "metadata": {},
   "outputs": [],
   "source": [
    "def divide (x, y):\n",
    "    return x/y\n",
    "\n",
    "divide( y = 5, x = 6)"
   ]
  },
  {
   "cell_type": "markdown",
   "id": "94bcd410",
   "metadata": {},
   "source": [
    "**Arbitrary Keyword  Arguments**"
   ]
  },
  {
   "cell_type": "code",
   "execution_count": null,
   "id": "16e0a23b",
   "metadata": {},
   "outputs": [],
   "source": [
    "#    In Python Arbitrary Keyword Arguments, *args, and **kwargs can pass a variable number of arguments to a function using special symbols. There are two special symbols:\n",
    "#  \n",
    "#   *args in Python (Non-Keyword Arguments)\n",
    "#   **kwargs in Python (Keyword Arguments)"
   ]
  },
  {
   "cell_type": "code",
   "execution_count": null,
   "id": "6b0637d6",
   "metadata": {},
   "outputs": [],
   "source": [
    "# *args \n",
    "def sumEverything(*arg):\n",
    "    sum_ = 0 \n",
    "    for x in arg:                                                   #tuples\n",
    "        sum_ += x\n",
    "        \n",
    "    return sum_\n",
    "\n",
    "sumEverything(1, 2, 3, 4, 5, 6, 7, 8)"
   ]
  },
  {
   "cell_type": "code",
   "execution_count": 39,
   "id": "16d0c704",
   "metadata": {},
   "outputs": [
    {
     "data": {
      "text/plain": [
       "5"
      ]
     },
     "execution_count": 39,
     "metadata": {},
     "output_type": "execute_result"
    }
   ],
   "source": [
    "myList = [2,4,5,3,4]\n",
    "len(myList)"
   ]
  },
  {
   "cell_type": "code",
   "execution_count": null,
   "id": "07aa0898",
   "metadata": {},
   "outputs": [],
   "source": [
    "# **kwargs\n",
    "def prodEverything(**kwarg):\n",
    "    prod = 1                                                       #dictionary\n",
    "    for i , j in kwarg.items():\n",
    "        prod *= j\n",
    "        \n",
    "    return prod\n",
    "\n",
    "prodEverything(x=1,y= 2, z= 3, a = 4, b = 5, c = 6, d = 7, e = 8)"
   ]
  },
  {
   "cell_type": "code",
   "execution_count": 5,
   "id": "972b9325",
   "metadata": {},
   "outputs": [],
   "source": [
    "portfolio = {}\n",
    "def add_stockprice(name,num_shares, price):\n",
    "    info = {}\n",
    "    info['num_shares'] = num_shares\n",
    "    info['price'] = price\n",
    "    portfolio[name] = info\n",
    "    \n",
    "\n",
    "add_stockprice('SBI',100,20)"
   ]
  },
  {
   "cell_type": "code",
   "execution_count": 6,
   "id": "67bca711",
   "metadata": {},
   "outputs": [
    {
     "data": {
      "text/plain": [
       "{'SBI': {'num_shares': 100, 'price': 20}}"
      ]
     },
     "execution_count": 6,
     "metadata": {},
     "output_type": "execute_result"
    }
   ],
   "source": [
    "portfolio"
   ]
  },
  {
   "cell_type": "code",
   "execution_count": 45,
   "id": "5fbeca9b",
   "metadata": {},
   "outputs": [
    {
     "data": {
      "text/plain": [
       "{'varun': {'position': 'consultant', 'salary': 100},\n",
       " 'varii': {'position': 'consul', 'salary': 10}}"
      ]
     },
     "execution_count": 45,
     "metadata": {},
     "output_type": "execute_result"
    }
   ],
   "source": [
    "employees = {}\n",
    "\n",
    "def add_employee(name, position, salary):\n",
    "    info = {}\n",
    "    info['position'] = position\n",
    "    info['salary'] = salary\n",
    "    employees[name] = info\n",
    "    \n",
    "add_employee('varun', 'consultant', 100)\n",
    "add_employee('varii', 'consul', 10)\n",
    "employees\n"
   ]
  },
  {
   "cell_type": "code",
   "execution_count": 46,
   "id": "76c73769",
   "metadata": {},
   "outputs": [
    {
     "data": {
      "text/plain": [
       "[{'name': 'varun', 'position': 'consultant', 'salary': 100},\n",
       " {'name': 'varii', 'position': 'consul', 'salary': 10}]"
      ]
     },
     "execution_count": 46,
     "metadata": {},
     "output_type": "execute_result"
    }
   ],
   "source": [
    "employees = []\n",
    "\n",
    "def add_employee(name, position, salary = 0):\n",
    "    \"\"\"Function to add an employee to the database.\"\"\"\n",
    "    employee = {\n",
    "        'name': name,\n",
    "        'position': position,\n",
    "        'salary': salary\n",
    "    }\n",
    "    employees.append(employee)\n",
    "add_employee('varun', 'consultant', 100)\n",
    "add_employee('varii', 'consul', 10)\n",
    "\n",
    "employees"
   ]
  },
  {
   "cell_type": "code",
   "execution_count": null,
   "id": "8eb0e5b3",
   "metadata": {},
   "outputs": [],
   "source": [
    "# Employee database\n",
    "employees = []\n",
    "\n",
    "def add_employee(name, position, salary = 0):\n",
    "    \"\"\"Function to add an employee to the database.\"\"\"\n",
    "    employee = {\n",
    "        'name': name,\n",
    "        'position': position,\n",
    "        'salary': salary\n",
    "    }\n",
    "    employees.append(employee)\n",
    "\n",
    "\n",
    "def display_employees():\n",
    "    \"\"\"Function to display information of all employees.\"\"\"\n",
    "    for idx, employee in enumerate(employees, start=1):\n",
    "        print(f\"Employee {idx}:\")\n",
    "        print(f\"Name: {employee['name']}\")\n",
    "        print(f\"Position: {employee['position']}\")\n",
    "        print(f\"Salary: ${employee['salary']}\\n\")\n",
    "\n",
    "def calculate_average_salary():\n",
    "    \"\"\"Function to calculate the average salary of all employees.\"\"\"\n",
    "    if not employees:\n",
    "        return 0\n",
    "\n",
    "    total_salary = sum(employee['salary'] for employee in employees)\n",
    "    average_salary = total_salary / len(employees)\n",
    "    return average_salary\n",
    "\n",
    "\n",
    "# Adding employees to the database\n",
    "add_employee(\"John Doe\", \"Manager\", 50000)\n",
    "add_employee(\"Jane Smith\", \"Developer\", 40000)\n",
    "add_employee(\"Michael Johnson\", \"Designer\", 45000)\n",
    "\n",
    "# Display employee information\n",
    "print(\"Employee Information:\")\n",
    "display_employees()\n",
    "\n",
    "# Calculate average salary\n",
    "average_salary = calculate_average_salary()\n",
    "print(f\"Average Salary: ${average_salary:.2f}\")\n"
   ]
  },
  {
   "cell_type": "markdown",
   "id": "1164c433",
   "metadata": {},
   "source": [
    "**Pass by value** (for immutable objects):\n",
    "In Python, immutable objects like integers are passed by value. Changes made to the parameter inside the function do not affect the original object outside the function.\n",
    "\n",
    "**Pass by reference** (for mutable objects):\n",
    "In Python, mutable objects like lists are passed by reference. Changes made to the parameter inside the function directly affect the original object outside the function.\n"
   ]
  },
  {
   "cell_type": "code",
   "execution_count": null,
   "id": "ca8b7d54",
   "metadata": {},
   "outputs": [],
   "source": [
    "l1 = [1, 2, 3, 4]\n",
    "value = 1\n",
    "\n",
    "def doSomething(l, a):\n",
    "    l[0] = 0\n",
    "    a = 2\n",
    "    return 0\n",
    "\n",
    "doSomething(l1, value)\n",
    "print(l1, value)"
   ]
  },
  {
   "cell_type": "markdown",
   "id": "1123b8b6",
   "metadata": {},
   "source": [
    "## lambda function\n",
    "A lambda function in Python is a small anonymous function that can have any number of input parameters but can only have one expression. It is defined using the lambda keyword, and its primary purpose is to provide a concise way of creating simple functions without the need for a full def statement."
   ]
  },
  {
   "cell_type": "code",
   "execution_count": 66,
   "id": "f62db22e",
   "metadata": {},
   "outputs": [],
   "source": [
    "calculate = lambda a, b, c, d : a//b + c-d                   #(input : output)"
   ]
  },
  {
   "cell_type": "code",
   "execution_count": 69,
   "id": "f151cc12",
   "metadata": {},
   "outputs": [
    {
     "data": {
      "text/plain": [
       "81"
      ]
     },
     "execution_count": 69,
     "metadata": {},
     "output_type": "execute_result"
    }
   ],
   "source": [
    "sq = lambda x : x**(2)\n",
    "sq(9)"
   ]
  },
  {
   "cell_type": "code",
   "execution_count": 67,
   "id": "ac8209c0",
   "metadata": {},
   "outputs": [
    {
     "name": "stdout",
     "output_type": "stream",
     "text": [
      "-1\n"
     ]
    }
   ],
   "source": [
    "print(calculate(1,2,3,4))"
   ]
  },
  {
   "cell_type": "code",
   "execution_count": 10,
   "id": "7cb0357c",
   "metadata": {},
   "outputs": [
    {
     "data": {
      "text/plain": [
       "[0, 1, 1, 2]"
      ]
     },
     "execution_count": 10,
     "metadata": {},
     "output_type": "execute_result"
    }
   ],
   "source": [
    "list(map(lambda x : x//2, [1,2,3,4]))      # map(function, iterable)\n",
    "                                           # The map function in Python is used to apply a given function to each item \n",
    "                                           #(element) in an iterable (e.g., a list, tuple, or other iterable) and returns an \n",
    "                                           #iterator that yields the results."
   ]
  },
  {
   "cell_type": "code",
   "execution_count": 11,
   "id": "463c8acc",
   "metadata": {},
   "outputs": [
    {
     "data": {
      "text/plain": [
       "<map at 0x1ef66aca440>"
      ]
     },
     "execution_count": 11,
     "metadata": {},
     "output_type": "execute_result"
    }
   ],
   "source": [
    "map(lambda x : x//2, [1,2,3,4])"
   ]
  },
  {
   "cell_type": "code",
   "execution_count": 9,
   "id": "7523fc5f",
   "metadata": {},
   "outputs": [
    {
     "data": {
      "text/plain": [
       "[4, 6]"
      ]
     },
     "execution_count": 9,
     "metadata": {},
     "output_type": "execute_result"
    }
   ],
   "source": [
    "list(filter(lambda x : x%2==0, [4,5,6,7]))"
   ]
  },
  {
   "cell_type": "code",
   "execution_count": null,
   "id": "e19733c4",
   "metadata": {},
   "outputs": [],
   "source": [
    "data = [[1, 5], [3, 2], [2, 8], [4, 3]]\n",
    "sorted_data = sorted(data, key=lambda x: x[1])\n",
    "print(sorted_data)"
   ]
  },
  {
   "cell_type": "markdown",
   "id": "75417628",
   "metadata": {},
   "source": [
    "## Recursion\n",
    "\n",
    "Recursion is a programming technique where a function calls itself in order to solve a problem. In other words, it's a way of breaking down a complex problem into smaller, more manageable subproblems until a simple base case is reached. Each recursive call solves a smaller part of the problem, and the results are combined to obtain the final solution.\n",
    "\n",
    "A recursive function typically consists of two parts:\n",
    "\n",
    "Base case: The condition that specifies when the recursion should stop and the function should return a specific value without making further recursive calls. The base case prevents infinite recursion and ensures that the function eventually terminates.\n",
    "\n",
    "Recursive step: The part of the function where it calls itself with a modified version of the original problem. The recursion works by solving smaller instances of the problem until the base case is met."
   ]
  },
  {
   "cell_type": "code",
   "execution_count": null,
   "id": "e83060f9",
   "metadata": {},
   "outputs": [],
   "source": [
    "def fibonacci(n):\n",
    "    if n <= 0:\n",
    "        return \"Invalid input. n should be a positive integer.\"\n",
    "    elif n == 1:\n",
    "        return 0\n",
    "    elif n == 2:\n",
    "        return 1\n",
    "    else:\n",
    "        return fibonacci(n - 1) + fibonacci(n - 2)\n",
    "\n",
    "# Test the fibonacci function\n",
    "n = 7\n",
    "result = fibonacci(n)\n",
    "\n",
    "print(\"%sth febo number is \" %n, result)"
   ]
  },
  {
   "cell_type": "code",
   "execution_count": 56,
   "id": "ae583ca1",
   "metadata": {},
   "outputs": [
    {
     "name": "stdout",
     "output_type": "stream",
     "text": [
      "24\n"
     ]
    }
   ],
   "source": [
    "def fact(n):\n",
    "    if n == 0:                     # 4 * fact(3)\n",
    "        return 1                   # 3 * fact(2)\n",
    "    else:\n",
    "        return n*fact(n-1)\n",
    "    \n",
    "print(fact(4))"
   ]
  },
  {
   "cell_type": "markdown",
   "id": "12646b4c",
   "metadata": {},
   "source": [
    "\n",
    "***********************************************************************************************************************\n",
    "\n",
    "In Python, there are various types of errors (exceptions) that can occur during program execution. Here are some common types of errors:\n",
    "\n",
    "**SyntaxError**: Raised when the Python interpreter encounters a syntax error in the code. This typically happens when the code violates the rules of the Python syntax.\n",
    "\n",
    "**IndentationError**: Raised when there is an issue with the indentation of code lines. It occurs when the spaces or tabs used for indentation are not consistent or when there is an unexpected indentation where it is not expected.\n",
    "\n",
    "**NameError**: Raised when an undefined variable or name is used.\n",
    "\n",
    "**TypeError**: Raised when an operation or function is applied to an object of an inappropriate type.\n",
    "\n",
    "**ZeroDivisionError** : Raised when division or modulo operation is performed with zero as the denominator.\n",
    "\n",
    "**ValueError**: Raised when a function receives an argument of the correct type but an inappropriate value.\n",
    "\n",
    "**IndexError**: Raised when a sequence subscript (index) is out of range.\n",
    "\n",
    "**KeyError**: Raised when a dictionary key is not found.\n",
    "\n",
    "**FileNotFoundError**: Raised when a file or directory is requested but cannot be found."
   ]
  },
  {
   "cell_type": "code",
   "execution_count": 73,
   "id": "ac6de17b",
   "metadata": {},
   "outputs": [
    {
     "name": "stdout",
     "output_type": "stream",
     "text": [
      "Enter a number: 4\n",
      "Enter another number: 0\n",
      "Cannot divide by zero.\n"
     ]
    }
   ],
   "source": [
    "try:\n",
    "    num1 = int(input(\"Enter a number: \"))\n",
    "    num2 = int(input(\"Enter another number: \"))\n",
    "    result = num1 / num2\n",
    "    print(\"Result:\", result)\n",
    "\n",
    "except ValueError:\n",
    "    print(\"Invalid input. Please enter valid integers.\")\n",
    "\n",
    "except ZeroDivisionError:\n",
    "    print(\"Cannot divide by zero.\")\n",
    "    \n",
    "except Exception as e:\n",
    "    print(\"An error occurred:\", e)"
   ]
  },
  {
   "cell_type": "code",
   "execution_count": 72,
   "id": "c0fc6ada",
   "metadata": {},
   "outputs": [
    {
     "name": "stdout",
     "output_type": "stream",
     "text": [
      "Enter a number: 4\n",
      "Enter another number: 0\n"
     ]
    },
    {
     "ename": "ZeroDivisionError",
     "evalue": "division by zero",
     "output_type": "error",
     "traceback": [
      "\u001b[1;31m---------------------------------------------------------------------------\u001b[0m",
      "\u001b[1;31mZeroDivisionError\u001b[0m                         Traceback (most recent call last)",
      "Cell \u001b[1;32mIn[72], line 4\u001b[0m\n\u001b[0;32m      2\u001b[0m num1 \u001b[38;5;241m=\u001b[39m \u001b[38;5;28mint\u001b[39m(\u001b[38;5;28minput\u001b[39m(\u001b[38;5;124m\"\u001b[39m\u001b[38;5;124mEnter a number: \u001b[39m\u001b[38;5;124m\"\u001b[39m))\n\u001b[0;32m      3\u001b[0m num2 \u001b[38;5;241m=\u001b[39m \u001b[38;5;28mint\u001b[39m(\u001b[38;5;28minput\u001b[39m(\u001b[38;5;124m\"\u001b[39m\u001b[38;5;124mEnter another number: \u001b[39m\u001b[38;5;124m\"\u001b[39m))\n\u001b[1;32m----> 4\u001b[0m result \u001b[38;5;241m=\u001b[39m \u001b[43mnum1\u001b[49m\u001b[43m \u001b[49m\u001b[38;5;241;43m/\u001b[39;49m\u001b[43m \u001b[49m\u001b[43mnum2\u001b[49m\n\u001b[0;32m      5\u001b[0m \u001b[38;5;28mprint\u001b[39m(\u001b[38;5;124m\"\u001b[39m\u001b[38;5;124mResult:\u001b[39m\u001b[38;5;124m\"\u001b[39m, result)\n",
      "\u001b[1;31mZeroDivisionError\u001b[0m: division by zero"
     ]
    }
   ],
   "source": [
    "#try:\n",
    "num1 = int(input(\"Enter a number: \"))\n",
    "num2 = int(input(\"Enter another number: \"))\n",
    "result = num1 / num2\n",
    "print(\"Result:\", result)\n",
    "\n",
    "#except ValueError:\n",
    "#    print(\"Invalid input. Please enter valid integers.\")\n",
    "\n",
    "#except ZeroDivisionError:\n",
    "#    print(\"Cannot divide by zero.\")\n",
    "    \n",
    "#except Exception as e:\n",
    "#    print(\"An error occurred:\", e)"
   ]
  },
  {
   "cell_type": "markdown",
   "id": "a21fc4ed",
   "metadata": {},
   "source": [
    "## Decorator \n",
    "\n",
    "In Python, a decorator is a powerful and flexible feature that allows you to modify or extend the behavior of functions or methods without changing their code. Decorators are implemented using higher-order functions, which are functions that take another function as an argument and return a new function."
   ]
  },
  {
   "cell_type": "code",
   "execution_count": 74,
   "id": "cc2dd47e",
   "metadata": {},
   "outputs": [
    {
     "name": "stdout",
     "output_type": "stream",
     "text": [
      "HI, I AM CREATED BY A FUNCTION PASSED AS AN ARGUMENT.\n",
      "hi, i am created by a function passed as an argument.\n"
     ]
    }
   ],
   "source": [
    "def shout(text):\n",
    "    return text.upper()\n",
    " \n",
    "def whisper(text):\n",
    "    return text.lower()\n",
    " \n",
    "def greet(func):\n",
    "    # storing the function in a variable\n",
    "    greeting = func(\"\"\"Hi, I am created by a function passed as an argument.\"\"\")\n",
    "    print (greeting)\n",
    " \n",
    "greet(shout)\n",
    "greet(whisper)"
   ]
  },
  {
   "cell_type": "code",
   "execution_count": null,
   "id": "6c028a7f",
   "metadata": {},
   "outputs": [],
   "source": [
    "# Python program to illustrate functions\n",
    "# Functions can return another function\n",
    " \n",
    "def create_adder(x):\n",
    "    def adder(y):\n",
    "        return x+y\n",
    " \n",
    "    return adder\n",
    " \n",
    "add_15 = create_adder(15)\n",
    " \n",
    "print(add_15(10))"
   ]
  },
  {
   "cell_type": "code",
   "execution_count": null,
   "id": "9f2773c5",
   "metadata": {},
   "outputs": [],
   "source": [
    "# importing libraries\n",
    "import time\n",
    "import math\n",
    "\n",
    "# decorator to calculate duration\n",
    "# taken by any function.\n",
    "def calculate_time(func):\n",
    "    # added arguments inside the inner1,\n",
    "    # if function takes any arguments,\n",
    "    # can be added like this.\n",
    "    def inner1(*args, **kwargs):\n",
    "\n",
    "        # storing time before function execution\n",
    "        begin = time.time()\n",
    "        print(\"Starting time: \", begin)\n",
    "        \n",
    "        func(*args, **kwargs)\n",
    "\n",
    "        # storing time after function execution\n",
    "        end = time.time()\n",
    "        print(\"End time: \", end)\n",
    "        print(\"Total time taken in : \", func.__name__, end - begin)\n",
    "\n",
    "    return inner1\n",
    "\n",
    "\n",
    "\n",
    "# this can be added to any function present,\n",
    "# in this case to calculate a factorial\n",
    "@calculate_time\n",
    "def factorial(num):\n",
    "\n",
    "\t# sleep 2 seconds because it takes very less time\n",
    "\t# so that you can see the actual difference\n",
    "\ttime.sleep(2)\n",
    "\tprint(math.factorial(num))\n",
    "\n",
    "# calling the function.\n",
    "factorial(10)\n"
   ]
  },
  {
   "cell_type": "markdown",
   "id": "58284ebf",
   "metadata": {},
   "source": [
    "## Generator\n",
    "\n",
    "A generator in Python is a special type of iterable, similar to lists or tuples, but with some key differences. Unlike lists that store all their elements in memory, generators **generate elements on-the-fly** as you iterate over them. **They are memory-efficient** and can be more efficient for large data sets or infinite sequences since they do not store the entire sequence in memory at once.\n",
    "\n",
    "Generators are defined using functions with the yield keyword instead of return. When a generator function is called, it returns an iterator called a generator, which can be used to produce the values using the next() function or by iterating over it in a loop."
   ]
  },
  {
   "cell_type": "code",
   "execution_count": 75,
   "id": "0bbebf22",
   "metadata": {},
   "outputs": [
    {
     "name": "stdout",
     "output_type": "stream",
     "text": [
      "1\n",
      "2\n",
      "3\n"
     ]
    }
   ],
   "source": [
    "# A generator function that yields 1 for first time,\n",
    "# 2 second time and 3 third time\n",
    "def simpleGeneratorFun():\n",
    "    yield 1\n",
    "    yield 2\n",
    "    yield 3\n",
    "\n",
    "# Driver code to check above generator function\n",
    "for value in simpleGeneratorFun():\n",
    "    print(value)\n"
   ]
  },
  {
   "cell_type": "code",
   "execution_count": null,
   "id": "544c7742",
   "metadata": {},
   "outputs": [],
   "source": [
    "def infinite_natural_numbers():\n",
    "    n = 1\n",
    "    while True:\n",
    "        yield n\n",
    "        n += 1\n",
    "\n",
    "# Using the generator in an infinite loop\n",
    "# for num in infinite_natural_numbers():\n",
    "# print(num)"
   ]
  },
  {
   "cell_type": "code",
   "execution_count": null,
   "id": "986e9e7e",
   "metadata": {},
   "outputs": [],
   "source": []
  },
  {
   "cell_type": "code",
   "execution_count": null,
   "id": "8f468700",
   "metadata": {},
   "outputs": [],
   "source": []
  },
  {
   "cell_type": "code",
   "execution_count": null,
   "id": "280b0b80",
   "metadata": {},
   "outputs": [],
   "source": []
  },
  {
   "cell_type": "code",
   "execution_count": null,
   "id": "ca75651d",
   "metadata": {},
   "outputs": [],
   "source": []
  },
  {
   "cell_type": "code",
   "execution_count": null,
   "id": "67c70036",
   "metadata": {},
   "outputs": [],
   "source": []
  },
  {
   "cell_type": "code",
   "execution_count": null,
   "id": "0c2af2de",
   "metadata": {},
   "outputs": [],
   "source": []
  },
  {
   "cell_type": "code",
   "execution_count": null,
   "id": "36b0f74a",
   "metadata": {},
   "outputs": [],
   "source": []
  },
  {
   "cell_type": "code",
   "execution_count": null,
   "id": "b2dd8a3b",
   "metadata": {},
   "outputs": [],
   "source": []
  },
  {
   "cell_type": "code",
   "execution_count": null,
   "id": "c3c8a0f1",
   "metadata": {},
   "outputs": [],
   "source": []
  },
  {
   "cell_type": "code",
   "execution_count": null,
   "id": "d6bffc90",
   "metadata": {},
   "outputs": [],
   "source": []
  },
  {
   "cell_type": "code",
   "execution_count": null,
   "id": "2b19e84f",
   "metadata": {},
   "outputs": [],
   "source": []
  },
  {
   "cell_type": "code",
   "execution_count": null,
   "id": "57aac34a",
   "metadata": {},
   "outputs": [],
   "source": []
  },
  {
   "cell_type": "code",
   "execution_count": null,
   "id": "b697d14c",
   "metadata": {},
   "outputs": [],
   "source": [
    "import pandas as pd\n",
    "import numpy as np\n",
    "def generate_random_timeseries_data(proportion_to_delete=0.2):\n",
    "    # Create a date range for the year 2020,  + 20 business days \n",
    "    date_range = pd.date_range(start='2020-01-01', end='2021-01-20', freq='B')  # 'B' for business day frequency\n",
    "\n",
    "    # Generate random data for each business day\n",
    "    random_data = np.random.rand(len(date_range))\n",
    "\n",
    "    # Create a DataFrame with the date and the generated random data\n",
    "    timeseries_data = pd.DataFrame({'Date': date_range, 'Value': random_data})\n",
    "\n",
    "    # Randomly delete some observations based on the given proportion\n",
    "    num_observations_to_delete = int(proportion_to_delete * len(timeseries_data))\n",
    "    indices_to_delete = np.random.choice(timeseries_data.index, num_observations_to_delete, replace=False)\n",
    "    timeseries_data.drop(indices_to_delete, inplace=True)\n",
    "\n",
    "    return timeseries_data"
   ]
  },
  {
   "cell_type": "code",
   "execution_count": null,
   "id": "20db6058",
   "metadata": {},
   "outputs": [],
   "source": [
    "df = generate_random_timeseries_data()"
   ]
  },
  {
   "cell_type": "code",
   "execution_count": null,
   "id": "f1c5e79e",
   "metadata": {},
   "outputs": [],
   "source": [
    "df"
   ]
  },
  {
   "cell_type": "code",
   "execution_count": null,
   "id": "fe6af253",
   "metadata": {},
   "outputs": [],
   "source": [
    "df.shape"
   ]
  },
  {
   "cell_type": "code",
   "execution_count": null,
   "id": "be62c1d1",
   "metadata": {},
   "outputs": [],
   "source": [
    "df.head(50)"
   ]
  },
  {
   "cell_type": "code",
   "execution_count": null,
   "id": "2571e213",
   "metadata": {},
   "outputs": [],
   "source": []
  },
  {
   "cell_type": "code",
   "execution_count": null,
   "id": "ffc45b7c",
   "metadata": {},
   "outputs": [],
   "source": []
  },
  {
   "cell_type": "code",
   "execution_count": null,
   "id": "a2815efb",
   "metadata": {},
   "outputs": [],
   "source": []
  },
  {
   "cell_type": "code",
   "execution_count": null,
   "id": "5de13433",
   "metadata": {},
   "outputs": [],
   "source": []
  },
  {
   "cell_type": "code",
   "execution_count": null,
   "id": "aaa39b47",
   "metadata": {},
   "outputs": [],
   "source": [
    "def print_numbers_with_recursion(n):\n",
    "    if n == 0:\n",
    "        return\n",
    "    print_numbers_with_recursion(n - 1)\n",
    "    print(n)\n",
    "\n",
    "print_numbers_with_recursion(5)"
   ]
  },
  {
   "cell_type": "code",
   "execution_count": null,
   "id": "dced57d1",
   "metadata": {},
   "outputs": [],
   "source": [
    "# Debugging Assignment: Find Prime Numbers\n",
    "\n",
    "def is_prime(number):\n",
    "    if number == 1:\n",
    "        return False\n",
    "    for i in range(1, number):\n",
    "        if number / i == 0:\n",
    "            return False\n",
    "    return True\n",
    "\n",
    "def find_prime_numbers(start, end):\n",
    "    prime_numbers = []\n",
    "    for num in range(start, end + 1):\n",
    "        if is_prime(num):\n",
    "            prime_numbers.append(num)\n",
    "    return prime_numbers\n",
    "\n",
    "# Test the function\n",
    "start_range = 1\n",
    "end_range = 50\n",
    "expected_primes = [2, 3, 5, 7, 11, 13, 17, 19, 23, 29, 31, 37, 41, 43, 47]\n",
    "result = find_prime_numbers(start_range, end_range)\n",
    "\n",
    "print(f\"Start Range: {start_range}\")\n",
    "print(f\"End Range: {end_range}\")\n",
    "print(f\"Expected Prime Numbers: {expected_primes}\")\n",
    "print(f\"Result: {result}\")\n",
    "\n",
    "if result == expected_primes:\n",
    "    print(\"Congratulations! The function is correct.\")\n",
    "else:\n",
    "    print(\"Too bad! There's a bug in the function.\")\n"
   ]
  },
  {
   "cell_type": "code",
   "execution_count": null,
   "id": "8133186f",
   "metadata": {},
   "outputs": [],
   "source": []
  },
  {
   "cell_type": "code",
   "execution_count": null,
   "id": "0b7c50e5",
   "metadata": {},
   "outputs": [],
   "source": [
    "import random\n",
    "from time import time\n",
    "\n",
    "dataset_tuple = []\n",
    "\n",
    "t1 = time()\n",
    "for i in range(5000):\n",
    "    Product_ID = random.randint(1,5000)\n",
    "    Product_name = \"Product_\" + str(random.randint(1,5000))\n",
    "    product_price = random.uniform(100,1000)\n",
    "    Product_Quantity = random.randint(10,100)\n",
    "    \n",
    "    dataset_tuple.append((Product_ID,Product_name, product_price, Product_Quantity))\n",
    "\n",
    "print(\"Time taken to create list of tuple \", time()-t1)\n",
    "\n",
    "dataset_list = []\n",
    "\n",
    "t2 = time()\n",
    "for i in range(5000):\n",
    "    Product_ID = random.randint(1,5000)\n",
    "    Product_name = \"Product_\" + str(random.randint(1,5000))\n",
    "    product_price = random.uniform(100,1000)\n",
    "    Product_Quantity = random.randint(10,100)\n",
    "    \n",
    "    dataset_list.append([Product_ID,Product_name, product_price, Product_Quantity])\n",
    "\n",
    "print(\"Time taken to create list of list \", time()-t2)"
   ]
  },
  {
   "cell_type": "code",
   "execution_count": null,
   "id": "87f6e48e",
   "metadata": {},
   "outputs": [],
   "source": []
  },
  {
   "cell_type": "code",
   "execution_count": null,
   "id": "46f631ec",
   "metadata": {},
   "outputs": [],
   "source": [
    "t1 = time()\n",
    "output1 = []\n",
    "for i in range(1000):\n",
    "    x= dataset_tuple[i][1]\n",
    "\n",
    "print(\"Time taken to access 1000 element of tuple \", time()- t1)\n",
    "\n",
    "t2 = time()\n",
    "output2 = []\n",
    "for i in range(1000):\n",
    "    x = dataset_list[i][1]\n",
    "\n",
    "print(\"Time taken to access 1000 element of list \", time()- t2)\n",
    "    "
   ]
  },
  {
   "cell_type": "code",
   "execution_count": null,
   "id": "4c1e4280",
   "metadata": {},
   "outputs": [],
   "source": [
    "# Task 3 - Memory Usage\n",
    "tuple_memory_usage = sys.getsizeof(dataset_tuple)\n",
    "list_memory_usage = sys.getsizeof(dataset_list)\n",
    "print(tuple_memory_usage, list_memory_usage)"
   ]
  },
  {
   "cell_type": "code",
   "execution_count": null,
   "id": "5e5e2f04",
   "metadata": {},
   "outputs": [],
   "source": []
  },
  {
   "cell_type": "code",
   "execution_count": null,
   "id": "db94f129",
   "metadata": {},
   "outputs": [],
   "source": [
    "import random\n",
    "integer = random.randint(1,100)\n",
    "float_ = random.uniform(1, 100)"
   ]
  },
  {
   "cell_type": "code",
   "execution_count": null,
   "id": "46086356",
   "metadata": {},
   "outputs": [],
   "source": [
    "integer, float_"
   ]
  },
  {
   "cell_type": "code",
   "execution_count": 2,
   "id": "997f3e99",
   "metadata": {},
   "outputs": [],
   "source": [
    "x = lambda a:a**2"
   ]
  },
  {
   "cell_type": "code",
   "execution_count": 4,
   "id": "aceac148",
   "metadata": {},
   "outputs": [],
   "source": [
    "natural_no = range(1,11)"
   ]
  },
  {
   "cell_type": "raw",
   "id": "14753fc6",
   "metadata": {},
   "source": [
    "x(2)"
   ]
  },
  {
   "cell_type": "code",
   "execution_count": 5,
   "id": "5316ab7f",
   "metadata": {},
   "outputs": [
    {
     "data": {
      "text/plain": [
       "4"
      ]
     },
     "execution_count": 5,
     "metadata": {},
     "output_type": "execute_result"
    }
   ],
   "source": [
    "x(2)"
   ]
  },
  {
   "cell_type": "code",
   "execution_count": 8,
   "id": "3cb2eec6",
   "metadata": {},
   "outputs": [
    {
     "name": "stdout",
     "output_type": "stream",
     "text": [
      "[1, 4, 9, 16, 25, 36, 49, 64, 81, 100]\n"
     ]
    }
   ],
   "source": [
    "l1 = [x(i) for i in range(1,11)]\n",
    "    \n",
    "print(l1)\n",
    "    "
   ]
  },
  {
   "cell_type": "code",
   "execution_count": 14,
   "id": "e7959f1b",
   "metadata": {},
   "outputs": [],
   "source": [
    " str1 = \"C:/Users/ME454XC/Downloads/Python Fundamentals - AS.ipynb\""
   ]
  },
  {
   "cell_type": "code",
   "execution_count": 16,
   "id": "ef976f4d",
   "metadata": {},
   "outputs": [
    {
     "data": {
      "text/plain": [
       "'Python Fundamentals - AS.ipynb'"
      ]
     },
     "execution_count": 16,
     "metadata": {},
     "output_type": "execute_result"
    }
   ],
   "source": [
    "str1.split(\"/\")[-1]"
   ]
  },
  {
   "cell_type": "code",
   "execution_count": 78,
   "id": "4a5eb879",
   "metadata": {},
   "outputs": [
    {
     "name": "stdout",
     "output_type": "stream",
     "text": [
      "missing values are: 4\n",
      "missing values are: 6\n",
      "missing values are: 8\n"
     ]
    }
   ],
   "source": [
    "L1 = [1,2,3,5,7,9,10]\n",
    "\n",
    "for i in range(1,11):\n",
    "    if i in L1:\n",
    "        pass\n",
    "    else:\n",
    "        print(\"missing values are:\",i)\n",
    "     \n",
    "    \n",
    "    \n",
    "    "
   ]
  },
  {
   "cell_type": "code",
   "execution_count": 20,
   "id": "9b2db908",
   "metadata": {},
   "outputs": [
    {
     "data": {
      "text/plain": [
       "{4, 6, 8}"
      ]
     },
     "execution_count": 20,
     "metadata": {},
     "output_type": "execute_result"
    }
   ],
   "source": [
    "set(range(1,11)).difference(L1)"
   ]
  },
  {
   "cell_type": "code",
   "execution_count": null,
   "id": "e06b8adc",
   "metadata": {},
   "outputs": [],
   "source": []
  }
 ],
 "metadata": {
  "kernelspec": {
   "display_name": "Python 3 (ipykernel)",
   "language": "python",
   "name": "python3"
  },
  "language_info": {
   "codemirror_mode": {
    "name": "ipython",
    "version": 3
   },
   "file_extension": ".py",
   "mimetype": "text/x-python",
   "name": "python",
   "nbconvert_exporter": "python",
   "pygments_lexer": "ipython3",
   "version": "3.10.9"
  }
 },
 "nbformat": 4,
 "nbformat_minor": 5
}
