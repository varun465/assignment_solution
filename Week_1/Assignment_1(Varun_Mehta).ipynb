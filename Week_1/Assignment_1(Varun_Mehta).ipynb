{
 "cells": [
  {
   "cell_type": "markdown",
   "id": "d96b1dc6",
   "metadata": {},
   "source": [
    "1.Create a dictionary to represent the stock portfolio. The keys should be the stock symbols (e.g., 'AAPL', 'GOOG'), \n",
    "and the values should be dictionaries containing information about each stock, such as the number of shares and \n",
    "the purchase price."
   ]
  },
  {
   "cell_type": "code",
   "execution_count": 70,
   "id": "49a9cb27",
   "metadata": {},
   "outputs": [],
   "source": [
    "stock_port = {'SBI':{'number of shares':100,'purchase price': 50},'BSNL':{'number of shares':200,'purchase price': 70}}"
   ]
  },
  {
   "cell_type": "code",
   "execution_count": 71,
   "id": "b07bfe45",
   "metadata": {},
   "outputs": [
    {
     "data": {
      "text/plain": [
       "{'SBI': {'number of shares': 100, 'purchase price': 50},\n",
       " 'BSNL': {'number of shares': 200, 'purchase price': 70}}"
      ]
     },
     "execution_count": 71,
     "metadata": {},
     "output_type": "execute_result"
    }
   ],
   "source": [
    "stock_port"
   ]
  },
  {
   "cell_type": "markdown",
   "id": "a2588315",
   "metadata": {},
   "source": [
    "2.Implement a function buy_stock() that allows users to buy stocks. The function should take the stock symbol, number of shares, and purchase price as input and add the stock to the portfolio."
   ]
  },
  {
   "cell_type": "code",
   "execution_count": 72,
   "id": "e35bb8c2",
   "metadata": {},
   "outputs": [],
   "source": [
    "portfolio = []\n",
    "\n",
    "def buy_stock(symbol,no_of_shares,price):\n",
    "    stock = {\n",
    "        symbol:[no_of_shares,price]\n",
    "    }\n",
    "        \n",
    "    portfolio.append(stock)\n"
   ]
  },
  {
   "cell_type": "code",
   "execution_count": 73,
   "id": "3606d81d",
   "metadata": {},
   "outputs": [],
   "source": [
    "buy_stock('SBI', 100,50)\n",
    "buy_stock('BSNL', 200,60)"
   ]
  },
  {
   "cell_type": "code",
   "execution_count": 74,
   "id": "1ab380a2",
   "metadata": {},
   "outputs": [
    {
     "data": {
      "text/plain": [
       "[{'SBI': [100, 50]}, {'BSNL': [200, 60]}]"
      ]
     },
     "execution_count": 74,
     "metadata": {},
     "output_type": "execute_result"
    }
   ],
   "source": [
    "portfolio"
   ]
  },
  {
   "cell_type": "markdown",
   "id": "3791dfb0",
   "metadata": {},
   "source": [
    "3.Implement a function sell_stock() that allows users to sell stocks. The function should take the stock symbol and the \n",
    "number of shares to sell as input and update the portfolio accordingly."
   ]
  },
  {
   "cell_type": "code",
   "execution_count": 75,
   "id": "4936a6f6",
   "metadata": {},
   "outputs": [
    {
     "name": "stdout",
     "output_type": "stream",
     "text": [
      " sold 5 shares of SBI.\n",
      "{'SBI': {'no_shares': 95, 'p_price': 50}, 'BSNL': {'no_shares': 200, 'p_price': 60}}\n"
     ]
    }
   ],
   "source": [
    "def sell_stock(portfolio, s_symbol, shares_to_sell):\n",
    "    \n",
    "    if s_symbol in portfolio:\n",
    "        \n",
    "        total_shares = portfolio[s_symbol]['no_shares']\n",
    "        \n",
    "        if shares_to_sell <= total_shares:\n",
    "            \n",
    "            average_purchase_price = portfolio[s_symbol]['p_price']\n",
    "            \n",
    "            remaining_shares = total_shares - shares_to_sell\n",
    "\n",
    "            if remaining_shares == 0:\n",
    "                \n",
    "                del portfolio[stock_symbol]  \n",
    "            \n",
    "            else:\n",
    "                \n",
    "                portfolio[s_symbol]['no_shares'] = remaining_shares\n",
    "\n",
    "            print(f\" sold {shares_to_sell} shares of {s_symbol}.\")\n",
    "        \n",
    "        else:\n",
    "            \n",
    "            print(\"Not enough shares to sell.\")\n",
    "    \n",
    "    else:\n",
    "        \n",
    "        print(\"No such Stock symbol found in the portfolio.\")\n",
    "\n",
    "\n",
    "portfolio = {'SBI': {'no_shares': 100, 'p_price': 50},'BSNL': {'no_shares': 200, 'p_price': 60},}\n",
    "\n",
    "sell_stock(portfolio, 'SBI', 5)  \n",
    " \n",
    "\n",
    "print(portfolio)  \n"
   ]
  },
  {
   "cell_type": "markdown",
   "id": "60a54475",
   "metadata": {},
   "source": [
    "4.\tImplement a function calculate_portfolio_value() that calculates the current value of the entire stock portfolio\n",
    "based on the current stock prices. Assume current price for any stock is \n",
    "current price = purchase price + [*random number between -20 and 20] % of purchase price.    \n",
    "*  e.g., 4.11%, 0%, -7.0%,20.0%, -13.5%, -20.0% etc\n",
    "import random\n",
    "integer = random.randint(1,100)\n",
    "float = random.uniform(1, 100)"
   ]
  },
  {
   "cell_type": "code",
   "execution_count": 76,
   "id": "0c062d11",
   "metadata": {},
   "outputs": [
    {
     "name": "stdout",
     "output_type": "stream",
     "text": [
      "SBI: 100 shares, Current Price: 48.0, Value: 4800.0\n",
      "BSNL: 200 shares, Current Price: 64.8, Value: 12960.0\n",
      "Total Portfolio Value: 17760.0\n"
     ]
    }
   ],
   "source": [
    "import random\n",
    "\n",
    "def calculate_portfolio_value(portfolio):\n",
    "    \n",
    "    total_value = 0.0\n",
    "\n",
    "    for s_symbol, s_info in portfolio.items():\n",
    "        \n",
    "        no_shares = s_info[0]\n",
    "        \n",
    "        purchase_price = s_info[1]\n",
    "        \n",
    "        current_price = purchase_price + (random.randint(-20, 20) / 100) * purchase_price\n",
    "\n",
    "        stock_value = no_shares * current_price\n",
    "        \n",
    "        total_value += stock_value\n",
    "\n",
    "        print(f\"{s_symbol}: {no_shares} shares, Current Price: {current_price:}, Value: {stock_value:}\")\n",
    "\n",
    "    print(\"Total Portfolio Value:\" , total_value)\n",
    "    \n",
    "    return total_value\n",
    "\n",
    "\n",
    "portfolio = {\"SBI\": [100, 50], \"BSNL\": [200, 60]}\n",
    "\n",
    "\n",
    "portfolio_value = calculate_portfolio_value(portfolio)"
   ]
  },
  {
   "cell_type": "markdown",
   "id": "8faf008d",
   "metadata": {},
   "source": [
    "5.Implement a function portfolio_performance() that calculates the overall performance of the portfolio. \n",
    "The performance can be measured as the percentage change in the portfolio value from the initial investment value."
   ]
  },
  {
   "cell_type": "code",
   "execution_count": 77,
   "id": "25054907",
   "metadata": {},
   "outputs": [
    {
     "name": "stdout",
     "output_type": "stream",
     "text": [
      "SBI: 100 shares, Current Price: 45.5, Value: 4550.0\n",
      "BSNL: 200 shares, Current Price: 67.2, Value: 13440.0\n",
      "Total Portfolio Value: 17990.0\n",
      "Portfolio Performance: 5.823529411764706\n"
     ]
    }
   ],
   "source": [
    "def portfolio_performance(portfolio, initial_investment):\n",
    "    \n",
    "    current_value = calculate_portfolio_value(portfolio)\n",
    "    \n",
    "    percentage_change = ((current_value - initial_investment) / initial_investment) * 100\n",
    "    \n",
    "    return percentage_change\n",
    "\n",
    "\n",
    "portfolio = {\"SBI\": [100, 50], \"BSNL\": [200, 60]}\n",
    "\n",
    "initial_investment = 17000\n",
    "\n",
    "performance = portfolio_performance(portfolio, initial_investment)\n",
    "\n",
    "\n",
    "print(\"Portfolio Performance:\",performance)"
   ]
  },
  {
   "cell_type": "markdown",
   "id": "841efde0",
   "metadata": {},
   "source": [
    "Debugging: Find Prime Numbers\n",
    "The goal of this function is to find all prime numbers in a given range (start to end).\n",
    "However, there are several bugs in the code that need to be fixed.\n",
    "Task. Debug given code and make sure it prints correct expected outcome. Explain in two lines, what are the changes you made. "
   ]
  },
  {
   "cell_type": "code",
   "execution_count": 78,
   "id": "9031e2e2",
   "metadata": {},
   "outputs": [
    {
     "name": "stdout",
     "output_type": "stream",
     "text": [
      "Congratulations! The function is correct.\n"
     ]
    }
   ],
   "source": [
    "def is_prime(number):\n",
    "    if number == 1:\n",
    "        return False\n",
    "    for i in range(2, number):\n",
    "        if number % i == 0:\n",
    "            return False\n",
    "    return True\n",
    "\n",
    "def find_prime_numbers(start, end):\n",
    "    prime_numbers = []\n",
    "    for num in range(start, end + 1):\n",
    "        if is_prime(num):\n",
    "            prime_numbers.append(num)\n",
    "    return prime_numbers\n",
    "\n",
    "# Test the function\n",
    "start_range = 1\n",
    "end_range = 50\n",
    "expected_primes = [2, 3, 5, 7, 11, 13, 17, 19, 23, 29, 31, 37, 41, 43, 47]\n",
    "result = find_prime_numbers(start_range, end_range)\n",
    "\n",
    "if result == expected_primes:\n",
    "    print(\"Congratulations! The function is correct.\")\n",
    "else:\n",
    "    print(\"Too bad! There's a bug in the function.\")\n"
   ]
  },
  {
   "cell_type": "markdown",
   "id": "59a42662",
   "metadata": {},
   "source": [
    "Task 1. Generate input data using below func. (Saving you from all the hustle of reading a file. XD) "
   ]
  },
  {
   "cell_type": "code",
   "execution_count": 5,
   "id": "ff042823",
   "metadata": {},
   "outputs": [],
   "source": [
    "import pandas as pd\n",
    "import numpy as np\n",
    "def generate_random_timeseries_data(proportion_to_delete=0.2):\n",
    "    # Create a date range for the year 2020,  + 20 business days \n",
    "    date_range = pd.date_range(start='2020-01-01', end='2021-01-20', freq='B')  # 'B' for business day frequency\n",
    "\n",
    " \n",
    "\n",
    "    # Generate random data for each business day\n",
    "    random_data = np.random.rand(len(date_range))\n",
    "\n",
    " \n",
    "\n",
    "    # Create a DataFrame with the date and the generated random data\n",
    "    timeseries_data = pd.DataFrame({'Date': date_range, 'Value': random_data})\n",
    "\n",
    " \n",
    "\n",
    "    # Randomly delete some observations based on the given proportion\n",
    "    num_observations_to_delete = int(proportion_to_delete * len(timeseries_data))\n",
    "    indices_to_delete = np.random.choice(timeseries_data.index, num_observations_to_delete, replace=False)\n",
    "    timeseries_data.drop(indices_to_delete, inplace=True)\n",
    "\n",
    " \n",
    "\n",
    "    return timeseries_data"
   ]
  },
  {
   "cell_type": "code",
   "execution_count": 4,
   "id": "1edb4f60",
   "metadata": {},
   "outputs": [
    {
     "data": {
      "text/plain": [
       "DatetimeIndex(['2023-09-04', '2023-09-05', '2023-09-06', '2023-09-07',\n",
       "               '2023-09-08'],\n",
       "              dtype='datetime64[ns]', freq='B')"
      ]
     },
     "execution_count": 4,
     "metadata": {},
     "output_type": "execute_result"
    }
   ],
   "source": [
    "import pandas as pd\n",
    "date_range = pd.date_range(start='2023-09-04', end='2023-09-10', freq='B')  # 'B' for business day frequency\n",
    "date_range"
   ]
  },
  {
   "cell_type": "code",
   "execution_count": 80,
   "id": "1eb941c3",
   "metadata": {},
   "outputs": [],
   "source": [
    "df = generate_random_timeseries_data()"
   ]
  },
  {
   "cell_type": "code",
   "execution_count": 81,
   "id": "d83a0b83",
   "metadata": {},
   "outputs": [
    {
     "data": {
      "text/html": [
       "<div>\n",
       "<style scoped>\n",
       "    .dataframe tbody tr th:only-of-type {\n",
       "        vertical-align: middle;\n",
       "    }\n",
       "\n",
       "    .dataframe tbody tr th {\n",
       "        vertical-align: top;\n",
       "    }\n",
       "\n",
       "    .dataframe thead th {\n",
       "        text-align: right;\n",
       "    }\n",
       "</style>\n",
       "<table border=\"1\" class=\"dataframe\">\n",
       "  <thead>\n",
       "    <tr style=\"text-align: right;\">\n",
       "      <th></th>\n",
       "      <th>Date</th>\n",
       "      <th>Value</th>\n",
       "    </tr>\n",
       "  </thead>\n",
       "  <tbody>\n",
       "    <tr>\n",
       "      <th>0</th>\n",
       "      <td>2020-01-01</td>\n",
       "      <td>0.420443</td>\n",
       "    </tr>\n",
       "    <tr>\n",
       "      <th>3</th>\n",
       "      <td>2020-01-06</td>\n",
       "      <td>0.112854</td>\n",
       "    </tr>\n",
       "    <tr>\n",
       "      <th>5</th>\n",
       "      <td>2020-01-08</td>\n",
       "      <td>0.163897</td>\n",
       "    </tr>\n",
       "    <tr>\n",
       "      <th>6</th>\n",
       "      <td>2020-01-09</td>\n",
       "      <td>0.743369</td>\n",
       "    </tr>\n",
       "    <tr>\n",
       "      <th>9</th>\n",
       "      <td>2020-01-14</td>\n",
       "      <td>0.358470</td>\n",
       "    </tr>\n",
       "    <tr>\n",
       "      <th>...</th>\n",
       "      <td>...</td>\n",
       "      <td>...</td>\n",
       "    </tr>\n",
       "    <tr>\n",
       "      <th>270</th>\n",
       "      <td>2021-01-13</td>\n",
       "      <td>0.852841</td>\n",
       "    </tr>\n",
       "    <tr>\n",
       "      <th>271</th>\n",
       "      <td>2021-01-14</td>\n",
       "      <td>0.225893</td>\n",
       "    </tr>\n",
       "    <tr>\n",
       "      <th>272</th>\n",
       "      <td>2021-01-15</td>\n",
       "      <td>0.546035</td>\n",
       "    </tr>\n",
       "    <tr>\n",
       "      <th>273</th>\n",
       "      <td>2021-01-18</td>\n",
       "      <td>0.447772</td>\n",
       "    </tr>\n",
       "    <tr>\n",
       "      <th>274</th>\n",
       "      <td>2021-01-19</td>\n",
       "      <td>0.724930</td>\n",
       "    </tr>\n",
       "  </tbody>\n",
       "</table>\n",
       "<p>221 rows × 2 columns</p>\n",
       "</div>"
      ],
      "text/plain": [
       "          Date     Value\n",
       "0   2020-01-01  0.420443\n",
       "3   2020-01-06  0.112854\n",
       "5   2020-01-08  0.163897\n",
       "6   2020-01-09  0.743369\n",
       "9   2020-01-14  0.358470\n",
       "..         ...       ...\n",
       "270 2021-01-13  0.852841\n",
       "271 2021-01-14  0.225893\n",
       "272 2021-01-15  0.546035\n",
       "273 2021-01-18  0.447772\n",
       "274 2021-01-19  0.724930\n",
       "\n",
       "[221 rows x 2 columns]"
      ]
     },
     "execution_count": 81,
     "metadata": {},
     "output_type": "execute_result"
    }
   ],
   "source": [
    "df"
   ]
  },
  {
   "cell_type": "markdown",
   "id": "a3a024b0",
   "metadata": {},
   "source": [
    "2.And one main function to find the series of 10-business-days returns from the time series of observations and \n",
    "call ‘nearest to 10 business days candidate’ function within main function whenever needed. "
   ]
  },
  {
   "cell_type": "code",
   "execution_count": 82,
   "id": "5ab7cf03",
   "metadata": {},
   "outputs": [],
   "source": [
    "import numpy as np\n",
    "import math\n",
    "\n",
    "def nearest_to_10_business_days(df):\n",
    "    \n",
    "    tnn= {}\n",
    "    \n",
    "    for i in range(len(df)-20):\n",
    "        \n",
    "        diff=[]\n",
    "        \n",
    "        Dt = df.Date.iloc[i]\n",
    "        \n",
    "        for j in range(i+1,len(df)):\n",
    "            \n",
    "            Dt_dash=df.Date.iloc[j]\n",
    "            \n",
    "            diff.append(np.busday_count(Dt.date(),Dt_dash.date())) \n",
    "            \n",
    "        min = abs((10/np.array(diff))-1)\n",
    "        \n",
    "        tnn[i] = i + np.argmin(min)\n",
    "        \n",
    "    return tnn\n",
    "\n",
    "\n"
   ]
  },
  {
   "cell_type": "code",
   "execution_count": 85,
   "id": "4eb84364",
   "metadata": {},
   "outputs": [],
   "source": [
    "import math\n",
    "def ten_business_day_return():\n",
    "    \n",
    "    dates = nearest_to_10_business_days(df)\n",
    "   \n",
    "    ret=[]\n",
    "    \n",
    "    for dt,dt_dash in dates.items():\n",
    "        \n",
    "        x = math.log(df.Value.iloc[dt_dash] / df.Value.iloc[dt] )\n",
    "        \n",
    "        y = ((10/( dt_dash - dt)) ** 0.5)\n",
    "        \n",
    "        ret.append(x*y)\n",
    "    \n",
    "    return ret"
   ]
  },
  {
   "cell_type": "code",
   "execution_count": 86,
   "id": "30623250",
   "metadata": {},
   "outputs": [
    {
     "data": {
      "text/plain": [
       "[-0.25213259942272437,\n",
       " 2.7675817306112434,\n",
       " 0.6457048840649521,\n",
       " -0.6257148086355363,\n",
       " 0.8578765102261139,\n",
       " 0.5187639342416623,\n",
       " 1.3737058089773446,\n",
       " -1.256103393894133,\n",
       " -0.6514815081719177,\n",
       " 1.3611456331374576,\n",
       " -0.47261061215191,\n",
       " 0.46892062790125616,\n",
       " -0.754217112946871,\n",
       " -1.3222946210124062,\n",
       " -1.4853210143462272,\n",
       " 0.8110860490009327,\n",
       " -1.3443580901058334,\n",
       " -3.9832192085322324,\n",
       " 0.3625362082491551,\n",
       " -0.4084297045872258,\n",
       " 1.6970125694007554,\n",
       " -2.7969611252805877,\n",
       " -0.3362565629204373,\n",
       " 2.357708198632037,\n",
       " 3.7555914880857024,\n",
       " 1.0938010785408951,\n",
       " -0.8678733828827041,\n",
       " 3.7372277798893014,\n",
       " 0.4769607969925889,\n",
       " 1.0368282783458092,\n",
       " 0.6861488979354095,\n",
       " 0.34872017240041553,\n",
       " -0.6799470675914014,\n",
       " 0.16877414999545842,\n",
       " -0.33031348512526726,\n",
       " -0.18720715774012942,\n",
       " -0.6350190597028846,\n",
       " -0.007522264656934665,\n",
       " 0.41320960084232033,\n",
       " 0.3879130486751961,\n",
       " -0.9250338321597885,\n",
       " 0.37555819134609186,\n",
       " 0.08401261252452136,\n",
       " 0.2830282728799064,\n",
       " -0.00495421640208717,\n",
       " 0.2648730431503201,\n",
       " -1.0840964250798302,\n",
       " -0.03623017587157672,\n",
       " -0.8157178632214928,\n",
       " 0.04302719353953726,\n",
       " -1.337595928692018,\n",
       " 0.2964090984579152,\n",
       " 0.8153744367564649,\n",
       " -2.0784957523147676,\n",
       " -3.366205145995173,\n",
       " 2.339910921963807,\n",
       " -0.4505216573982101,\n",
       " 1.4229193981715567,\n",
       " -1.4412603649749043,\n",
       " 1.1450198547513237,\n",
       " -0.07356612839596059,\n",
       " 0.5702119284863517,\n",
       " 0.1440286302639998,\n",
       " -0.8017233166099693,\n",
       " -0.8117977347852204,\n",
       " 1.1588544172702784,\n",
       " -2.1452104648351313,\n",
       " 0.28062679839525034,\n",
       " -4.484636993653389,\n",
       " 0.528369215448811,\n",
       " 0.6669138889846117,\n",
       " -1.28832128505371,\n",
       " -0.031730568472777124,\n",
       " -0.3220493347498744,\n",
       " 2.7115656571450137,\n",
       " -0.7070087012644936,\n",
       " 2.735119221144346,\n",
       " 0.4529648860963104,\n",
       " -1.428273863079001,\n",
       " 0.7572043860746916,\n",
       " 1.6952074688581469,\n",
       " -0.6814963633471386,\n",
       " -0.6421990691669812,\n",
       " 0.9532711714241741,\n",
       " 1.4328324982558993,\n",
       " 0.662821427760384,\n",
       " -4.0198165872675,\n",
       " 0.10602444702545387,\n",
       " 1.1056354724719424,\n",
       " -3.0921012354872035,\n",
       " -1.3600239455411198,\n",
       " -2.294245537392149,\n",
       " -1.8266217638080775,\n",
       " -2.637024322460365,\n",
       " -3.6872358972893076,\n",
       " 4.294704482548508,\n",
       " -0.695759172794213,\n",
       " -1.2383464978241134,\n",
       " 4.682808657612337,\n",
       " 2.5995549566205955,\n",
       " 2.823358234452846,\n",
       " 2.5419856637107947,\n",
       " -0.7150884007712289,\n",
       " -0.6849103113163871,\n",
       " -0.6859419056942035,\n",
       " -1.3785511911593609,\n",
       " 0.9308102139787344,\n",
       " 0.8877136022568319,\n",
       " -0.4962471127284405,\n",
       " -0.40638963519571003,\n",
       " 0.592199810390654,\n",
       " -0.9200127316975667,\n",
       " 0.685859539667341,\n",
       " 0.026567687614256905,\n",
       " 0.274860351190257,\n",
       " -1.006022667851756,\n",
       " 0.126611558069841,\n",
       " 2.2876858984113553,\n",
       " -3.385873514247008,\n",
       " 0.8876294522765854,\n",
       " 0.3125186670284044,\n",
       " -0.34633769091633504,\n",
       " -3.0385722698638307,\n",
       " 2.9887162642821035,\n",
       " -4.304858136835736,\n",
       " -1.814164786674885,\n",
       " 2.6770736798719588,\n",
       " 0.6098851570670625,\n",
       " -1.7525482826369385,\n",
       " 0.49261085572524405,\n",
       " 0.19446789270319656,\n",
       " 3.5529901399991646,\n",
       " -0.18430573700887373,\n",
       " 4.356424039825849,\n",
       " 0.4818519653618191,\n",
       " -3.7689003182564345,\n",
       " -4.8309049013849314,\n",
       " 1.6691916513282734,\n",
       " -0.43851200526374384,\n",
       " -0.5297347562494562,\n",
       " 0.07032964233218693,\n",
       " -0.7251823839419628,\n",
       " 0.28874447494485583,\n",
       " 2.0583547696960647,\n",
       " 6.1557164037971965,\n",
       " 0.9369050228053144,\n",
       " 0.30294948049002696,\n",
       " 0.02655035222093365,\n",
       " -1.8771029360204141,\n",
       " -8.699693712552095,\n",
       " -2.130931648854703,\n",
       " -1.9853722180509856,\n",
       " 0.40253995383952185,\n",
       " -0.5569656954495793,\n",
       " 1.3032920237076258,\n",
       " -1.9141120145659247,\n",
       " 7.546001145985158,\n",
       " 1.2748351225955954,\n",
       " 1.977198183122239,\n",
       " 0.12491190122975318,\n",
       " -0.43425935617498307,\n",
       " 0.469852664655321,\n",
       " -0.4299734363486375,\n",
       " 4.6190678365610145,\n",
       " 0.3860190564706148,\n",
       " 0.4987607934632265,\n",
       " -0.3086942446392438,\n",
       " 0.616785827654729,\n",
       " 0.026961291173696496,\n",
       " -0.26935184439427995,\n",
       " 0.1930779040938642,\n",
       " -0.014761943277909856,\n",
       " 0.19448774661662147,\n",
       " -0.6982422548694645,\n",
       " -2.015775005088547,\n",
       " -0.9321435013212684,\n",
       " 0.13825299589296125,\n",
       " -0.719119702218689,\n",
       " 0.018435025020365186,\n",
       " 0.37611100931260333,\n",
       " 0.26360157635076703,\n",
       " -0.5733307037776318,\n",
       " -1.7682355921170758,\n",
       " -7.1339326453327505,\n",
       " -6.533851984305386,\n",
       " 0.04783908923229309,\n",
       " -4.003788158610425,\n",
       " 1.8974559027390792,\n",
       " 0.11644012507834008,\n",
       " 1.4349760380470653,\n",
       " 6.804319175715016,\n",
       " -0.7310358662706322,\n",
       " 1.2924997817113082,\n",
       " 0.4445937488275114,\n",
       " -0.01565817260582349,\n",
       " 1.2600456396642006,\n",
       " -2.990331223264562,\n",
       " -0.17752605418863665,\n",
       " 5.789501274108499,\n",
       " 0.33352018130271877,\n",
       " -0.06092080109269013]"
      ]
     },
     "execution_count": 86,
     "metadata": {},
     "output_type": "execute_result"
    }
   ],
   "source": [
    "ten_business_day_return()"
   ]
  },
  {
   "cell_type": "code",
   "execution_count": null,
   "id": "ee947597",
   "metadata": {},
   "outputs": [],
   "source": []
  },
  {
   "cell_type": "code",
   "execution_count": null,
   "id": "860ef75b",
   "metadata": {},
   "outputs": [],
   "source": []
  }
 ],
 "metadata": {
  "kernelspec": {
   "display_name": "Python 3 (ipykernel)",
   "language": "python",
   "name": "python3"
  },
  "language_info": {
   "codemirror_mode": {
    "name": "ipython",
    "version": 3
   },
   "file_extension": ".py",
   "mimetype": "text/x-python",
   "name": "python",
   "nbconvert_exporter": "python",
   "pygments_lexer": "ipython3",
   "version": "3.10.9"
  }
 },
 "nbformat": 4,
 "nbformat_minor": 5
}
