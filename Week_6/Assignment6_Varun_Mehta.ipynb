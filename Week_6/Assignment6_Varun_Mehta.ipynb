{
 "cells": [
  {
   "cell_type": "markdown",
   "id": "04dc4340",
   "metadata": {},
   "source": [
    "### Question 1. \n",
    "Two Sum: Given a sorted array of integers in ascending order, write a function to find two numbers such that they add up closest to a specific target number. \n",
    "Solution should be optimal and provide time complexity of your solution. \n"
   ]
  },
  {
   "cell_type": "code",
   "execution_count": 48,
   "id": "526d27d6",
   "metadata": {},
   "outputs": [
    {
     "name": "stdout",
     "output_type": "stream",
     "text": [
      "(5, 6)\n"
     ]
    }
   ],
   "source": [
    "s_array = [ 0, 1, 5, 6, 19, 25]\n",
    "target = 13\n",
    "\n",
    "dummy_sum = float('inf')\n",
    "\n",
    "for i in range(len(s_array)):\n",
    "    for j in range(i + 1, len(s_array)):\n",
    "        sum = s_array[i] + s_array[j]\n",
    "\n",
    "        if abs( sum - target ) < abs( dummy_sum - target ):\n",
    "            dummy_sum = sum\n",
    "            result = (s_array[i], s_array[j])\n",
    "\n",
    "print(result)   "
   ]
  },
  {
   "cell_type": "code",
   "execution_count": null,
   "id": "d87a60e8",
   "metadata": {},
   "outputs": [],
   "source": [
    "Both the loops are running for almost n iteration therefore time complexity is n^2. "
   ]
  },
  {
   "cell_type": "markdown",
   "id": "e47e8712",
   "metadata": {},
   "source": [
    "### Question 2. \n",
    "Given an array representing the price of a stock on different days, write a program to find the maximum profit that can be made by buying and selling the stock, with the restriction that you must wait for one day after selling the stock before buying it again.\n"
   ]
  },
  {
   "cell_type": "code",
   "execution_count": 50,
   "id": "c3aeffb3",
   "metadata": {},
   "outputs": [
    {
     "name": "stdout",
     "output_type": "stream",
     "text": [
      "6\n"
     ]
    }
   ],
   "source": [
    "def max_profit(prices):\n",
    "    if not prices:\n",
    "        return 0\n",
    "\n",
    "    min_price = prices[0]\n",
    "    max_profit = 0\n",
    "    skip_next = False\n",
    "\n",
    "    for i in range(len(prices)):\n",
    "        if skip_next:\n",
    "            skip_next = False\n",
    "            continue\n",
    "\n",
    "        price = prices[i+1]\n",
    "\n",
    "        if price < min_price:\n",
    "            min_price = price\n",
    "        else:\n",
    "            max_profit = max(max_profit, price - min_price)\n",
    "            skip_next = True\n",
    "\n",
    "    return max_profit\n",
    "\n",
    "# Test cases\n",
    "print(max_profit([1, 7, 5, 3, 6, 4]))\n"
   ]
  },
  {
   "cell_type": "markdown",
   "id": "fbc1f710",
   "metadata": {},
   "source": [
    "### Question 3. \n",
    "Write an algorithm to find the first 100 twin primes.\n",
    "\n",
    "Fun Fact XD:  Did you know that mathematicians are still working to prove whether there are an infinite number of twin primes? Twin primes are pairs of prime numbers that have a difference of 2 between them. While it's strongly believed that there are infinitely many twin primes, the exact proof, known as the Twin Prime Conjecture, remains elusive. It's a fascinating and unsolved mystery in the world of mathematics!\n"
   ]
  },
  {
   "cell_type": "code",
   "execution_count": 51,
   "id": "764995b4",
   "metadata": {},
   "outputs": [
    {
     "name": "stdout",
     "output_type": "stream",
     "text": [
      "[2, 3, 5, 7, 11, 13, 17, 19, 23, 29, 31, 37, 41, 43, 47, 53, 59, 61, 67, 71, 73, 79, 83, 89, 97]\n"
     ]
    }
   ],
   "source": [
    "# To generate first 100 prime numbers\n",
    "\n",
    "def prime(number):\n",
    "    prime_list = []  \n",
    "    for num in range(2, number):\n",
    "        status = True\n",
    "        for i in range(2, num):\n",
    "            if num % i == 0:\n",
    "                status = False\n",
    "                break  \n",
    "        if status:\n",
    "            prime_list.append(num)  \n",
    "    return prime_list  \n",
    "\n",
    "\n",
    "prime_numbers = prime(101) \n",
    "print(prime_numbers)  \n"
   ]
  },
  {
   "cell_type": "code",
   "execution_count": 52,
   "id": "698df47d",
   "metadata": {},
   "outputs": [
    {
     "name": "stdout",
     "output_type": "stream",
     "text": [
      "[3, 5, 7, 11, 13, 17, 19, 29, 31, 41, 43, 59, 61, 71, 73]\n"
     ]
    }
   ],
   "source": [
    "def is_twin_prime(prime_list, num):\n",
    "    if num - 2 in prime_list or num + 2 in prime_list:\n",
    "        return True\n",
    "    return False\n",
    "\n",
    "def find_twin_primes(prime_list):\n",
    "    twin_primes = []\n",
    "    for prime in prime_list:\n",
    "        if is_twin_prime(prime_list, prime):\n",
    "            twin_primes.append(prime)\n",
    "    return twin_primes\n",
    "\n",
    "prime_numbers = prime(101)  \n",
    "\n",
    "twin_prime_numbers = find_twin_primes(prime_numbers)  \n",
    "\n",
    "print(twin_prime_numbers)  \n"
   ]
  },
  {
   "cell_type": "markdown",
   "id": "9d98a95d",
   "metadata": {},
   "source": [
    "### Question 4. \n",
    "What is the time complexity of the following code:\n",
    "Please provide a brief explanation in a few words"
   ]
  },
  {
   "cell_type": "code",
   "execution_count": null,
   "id": "70bf67fd",
   "metadata": {},
   "outputs": [],
   "source": [
    "k = 0;\n",
    "for i in range(n//2,n):\n",
    "    for j in range(2,n,pow(2,j)):\n",
    "        k = k + n / 2;"
   ]
  },
  {
   "cell_type": "code",
   "execution_count": null,
   "id": "fd3dc3ea",
   "metadata": {},
   "outputs": [],
   "source": [
    "The outer loop will run from n//2 to n-1. Lets say n = 100 then it will run from 50 to 99. Time complexity for the outer loop \n",
    "is n/2 . \n",
    "\n",
    "The inner loop has a step size of 2^j, it will run from 2 till 2^j is less than n-1. Here for given n =100, j will start \n",
    "from 2 and will takes value like 2 + 2^2 = 6 , 6 + 2^6 = 70 and so on until it is less than n - 1. Here the inner loop is \n",
    "running in a logarithmic manner. Time complexity for the inner loop is log n . \n",
    "\n",
    "Therefore overall time complexity of the loop is: (n/2 * log n ) which gives O(nlogn).\n",
    "j can take value "
   ]
  },
  {
   "cell_type": "markdown",
   "id": "94c53ad8",
   "metadata": {},
   "source": [
    "### Question 5.\n",
    "What is the time complexity of the following code: Please provide a brief explanation in a few words"
   ]
  },
  {
   "cell_type": "code",
   "execution_count": null,
   "id": "45621bbf",
   "metadata": {},
   "outputs": [],
   "source": [
    "value = 0;\n",
    "for i in range (n):\n",
    "    for j in range(i):\n",
    "        value = value + 1"
   ]
  },
  {
   "cell_type": "code",
   "execution_count": null,
   "id": "341be712",
   "metadata": {},
   "outputs": [],
   "source": [
    "Let n = 10, The outer loop will take value from 0 to 9. The inner loop will take value from 0 to 8. \n",
    "for inner loop:\n",
    "For the 1st iteration of outer loop, inner loop will run 0 times.\n",
    "For the 2nd iteration of outer loop, inner loop will run 1 times. \n",
    "For the 3rd iteration of outer loop, ineer loop will run 2 times. \n",
    "For the n - 1 iteration of outer loop, inner loop will run n - 2 times \n",
    "Total no of iteration 0 + 1 + 2 + .... + n - 2\n",
    "\n",
    "Applying formula: sum of first x numbers is: (x)(x + 1)/2\n",
    "\n",
    "(n-2)(n-1)/2 = ( n^2 -3n + 2 )/ 2\n",
    "\n",
    "Time complexity is n^2 as it is the most dominant term in the given equation."
   ]
  },
  {
   "cell_type": "code",
   "execution_count": null,
   "id": "b3514321",
   "metadata": {},
   "outputs": [],
   "source": []
  }
 ],
 "metadata": {
  "kernelspec": {
   "display_name": "Python 3 (ipykernel)",
   "language": "python",
   "name": "python3"
  },
  "language_info": {
   "codemirror_mode": {
    "name": "ipython",
    "version": 3
   },
   "file_extension": ".py",
   "mimetype": "text/x-python",
   "name": "python",
   "nbconvert_exporter": "python",
   "pygments_lexer": "ipython3",
   "version": "3.10.9"
  }
 },
 "nbformat": 4,
 "nbformat_minor": 5
}
